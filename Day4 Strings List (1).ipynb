{
 "cells": [
  {
   "cell_type": "code",
   "execution_count": 1,
   "id": "e66982cb-c254-4b46-a21f-e5c5e6d433e9",
   "metadata": {},
   "outputs": [],
   "source": [
    "name=\"Data Science Masters\""
   ]
  },
  {
   "cell_type": "code",
   "execution_count": 2,
   "id": "fbe94d9c-8c3c-470b-86a7-d3b36d4e6938",
   "metadata": {},
   "outputs": [
    {
     "data": {
      "text/plain": [
       "'dATA sCIENCE mASTERS'"
      ]
     },
     "execution_count": 2,
     "metadata": {},
     "output_type": "execute_result"
    }
   ],
   "source": [
    "name.swapcase()"
   ]
  },
  {
   "cell_type": "code",
   "execution_count": 3,
   "id": "22838ff9-e709-4e90-b814-f2f3bbf3ab58",
   "metadata": {},
   "outputs": [
    {
     "data": {
      "text/plain": [
       "'Data Science Masters'"
      ]
     },
     "execution_count": 3,
     "metadata": {},
     "output_type": "execute_result"
    }
   ],
   "source": [
    "name.title()"
   ]
  },
  {
   "cell_type": "code",
   "execution_count": 4,
   "id": "7329d66e-b787-4d33-b2ed-7c4bbdbd96bd",
   "metadata": {},
   "outputs": [
    {
     "data": {
      "text/plain": [
       "'Data science masters'"
      ]
     },
     "execution_count": 4,
     "metadata": {},
     "output_type": "execute_result"
    }
   ],
   "source": [
    "name.capitalize()"
   ]
  },
  {
   "cell_type": "markdown",
   "id": "af6c0ed6-17b0-4c31-a1c8-ed1c792c0822",
   "metadata": {},
   "source": [
    "# Reverse a string"
   ]
  },
  {
   "cell_type": "code",
   "execution_count": 6,
   "id": "ed3d936f-181c-489e-8825-de17ab980f8d",
   "metadata": {},
   "outputs": [
    {
     "data": {
      "text/plain": [
       "'sretsaM ecneicS ataD'"
      ]
     },
     "execution_count": 6,
     "metadata": {},
     "output_type": "execute_result"
    }
   ],
   "source": [
    "name[::-1]"
   ]
  },
  {
   "cell_type": "code",
   "execution_count": 10,
   "id": "264c63b2-49fc-43be-a676-7e83455ec1eb",
   "metadata": {},
   "outputs": [
    {
     "data": {
      "text/plain": [
       "'s r e t s a M   e c n e i c S   a t a D'"
      ]
     },
     "execution_count": 10,
     "metadata": {},
     "output_type": "execute_result"
    }
   ],
   "source": [
    "' '.join(reversed(name))"
   ]
  },
  {
   "cell_type": "code",
   "execution_count": 11,
   "id": "9e8f8e27-8043-45ac-be59-a180a19aa446",
   "metadata": {},
   "outputs": [
    {
     "data": {
      "text/plain": [
       "<reversed at 0x7f17e58ab580>"
      ]
     },
     "execution_count": 11,
     "metadata": {},
     "output_type": "execute_result"
    }
   ],
   "source": [
    "reversed(name)"
   ]
  },
  {
   "cell_type": "code",
   "execution_count": 13,
   "id": "645d08e6-3bc3-4cb9-a55b-c440992a4cdb",
   "metadata": {},
   "outputs": [
    {
     "data": {
      "text/plain": [
       "'a'"
      ]
     },
     "execution_count": 13,
     "metadata": {},
     "output_type": "execute_result"
    }
   ],
   "source": [
    "\"Krish\".join(\"a\")"
   ]
  },
  {
   "cell_type": "code",
   "execution_count": 4,
   "id": "75b39a31-e8df-4995-94b5-bf66d77915cc",
   "metadata": {},
   "outputs": [
    {
     "data": {
      "text/plain": [
       "'aKrishbKrishcKrishd'"
      ]
     },
     "execution_count": 4,
     "metadata": {},
     "output_type": "execute_result"
    }
   ],
   "source": [
    "\"Krish\".join(\"abcd\")"
   ]
  },
  {
   "cell_type": "code",
   "execution_count": 5,
   "id": "d1eefff7-a645-49bb-a732-8261adb0db51",
   "metadata": {},
   "outputs": [
    {
     "data": {
      "text/plain": [
       "'s l l i k S W P'"
      ]
     },
     "execution_count": 5,
     "metadata": {},
     "output_type": "execute_result"
    }
   ],
   "source": [
    "' '.join(reversed(\"PWSkills\"))"
   ]
  },
  {
   "cell_type": "code",
   "execution_count": 10,
   "id": "f729f0ab-ad5a-4d0c-8c29-0a4bbe44fd2d",
   "metadata": {},
   "outputs": [
    {
     "data": {
      "text/plain": [
       "'r PWSkills e PWSkills v PWSkills e PWSkills r PWSkills s PWSkills e'"
      ]
     },
     "execution_count": 10,
     "metadata": {},
     "output_type": "execute_result"
    }
   ],
   "source": [
    "' PWSkills '.join(\"reverse\")"
   ]
  },
  {
   "cell_type": "code",
   "execution_count": 13,
   "id": "a1cca4c6-74aa-4129-9f1d-7d2978daa18d",
   "metadata": {},
   "outputs": [
    {
     "data": {
      "text/plain": [
       "['t', 'n', 'a']"
      ]
     },
     "execution_count": 13,
     "metadata": {},
     "output_type": "execute_result"
    }
   ],
   "source": [
    "list(reversed(\"ant\"))"
   ]
  },
  {
   "cell_type": "code",
   "execution_count": 14,
   "id": "19ee37bf-f270-493e-bc41-70af722f3c39",
   "metadata": {},
   "outputs": [],
   "source": [
    "str1=\"PW is a good company\""
   ]
  },
  {
   "cell_type": "code",
   "execution_count": 16,
   "id": "fe3d6395-e531-4a5d-8314-42a75ada0a97",
   "metadata": {},
   "outputs": [
    {
     "data": {
      "text/plain": [
       "'P W   i s   a   g o o d   c o m p a n y'"
      ]
     },
     "execution_count": 16,
     "metadata": {},
     "output_type": "execute_result"
    }
   ],
   "source": [
    "\" \".join(str1)"
   ]
  },
  {
   "cell_type": "code",
   "execution_count": 17,
   "id": "c6e0e68b-aeca-4719-9ecb-14b9b338bc37",
   "metadata": {},
   "outputs": [
    {
     "data": {
      "text/plain": [
       "<reversed at 0x7f1aa2734a00>"
      ]
     },
     "execution_count": 17,
     "metadata": {},
     "output_type": "execute_result"
    }
   ],
   "source": [
    "# typecasting\n",
    "reversed(str1)"
   ]
  },
  {
   "cell_type": "code",
   "execution_count": 18,
   "id": "010e3a7c-ff19-494c-8733-86c0f23f35d0",
   "metadata": {},
   "outputs": [
    {
     "data": {
      "text/plain": [
       "['y',\n",
       " 'n',\n",
       " 'a',\n",
       " 'p',\n",
       " 'm',\n",
       " 'o',\n",
       " 'c',\n",
       " ' ',\n",
       " 'd',\n",
       " 'o',\n",
       " 'o',\n",
       " 'g',\n",
       " ' ',\n",
       " 'a',\n",
       " ' ',\n",
       " 's',\n",
       " 'i',\n",
       " ' ',\n",
       " 'W',\n",
       " 'P']"
      ]
     },
     "execution_count": 18,
     "metadata": {},
     "output_type": "execute_result"
    }
   ],
   "source": [
    "list(reversed(str1))"
   ]
  },
  {
   "cell_type": "code",
   "execution_count": 22,
   "id": "73c92fa0-f3bd-4198-81f1-bd1e10716100",
   "metadata": {},
   "outputs": [
    {
     "name": "stdout",
     "output_type": "stream",
     "text": [
      "ynapmoc doog a si WP"
     ]
    }
   ],
   "source": [
    "for i in list(reversed(str1)):\n",
    "    print(i, end='')"
   ]
  },
  {
   "cell_type": "markdown",
   "id": "2c5346d5-f300-47bb-a82d-5488d118e358",
   "metadata": {},
   "source": [
    "## Removing character from end of the string"
   ]
  },
  {
   "cell_type": "code",
   "execution_count": 32,
   "id": "6da4f05d-11e1-481a-ba55-04aad669d1e1",
   "metadata": {},
   "outputs": [],
   "source": [
    "string_a=\" PWSkills \""
   ]
  },
  {
   "cell_type": "code",
   "execution_count": 27,
   "id": "eaee4ab1-238e-4d0f-ae40-65627c26c5d6",
   "metadata": {},
   "outputs": [
    {
     "data": {
      "text/plain": [
       "'PWSkills'"
      ]
     },
     "execution_count": 27,
     "metadata": {},
     "output_type": "execute_result"
    }
   ],
   "source": [
    "string_a.strip()"
   ]
  },
  {
   "cell_type": "code",
   "execution_count": 25,
   "id": "812671b2-83a4-4305-a69d-7d3e13d52aee",
   "metadata": {},
   "outputs": [
    {
     "data": {
      "text/plain": [
       "'PWSkills '"
      ]
     },
     "execution_count": 25,
     "metadata": {},
     "output_type": "execute_result"
    }
   ],
   "source": [
    "string_a"
   ]
  },
  {
   "cell_type": "code",
   "execution_count": 30,
   "id": "ddb0a4f6-99a9-4094-ba13-c614090dcc60",
   "metadata": {},
   "outputs": [
    {
     "data": {
      "text/plain": [
       "'PWSkills '"
      ]
     },
     "execution_count": 30,
     "metadata": {},
     "output_type": "execute_result"
    }
   ],
   "source": [
    "string_a.strip(\"l\")"
   ]
  },
  {
   "cell_type": "code",
   "execution_count": 33,
   "id": "365cacd4-179b-4e7e-bde2-3fd7bf9f4aef",
   "metadata": {},
   "outputs": [
    {
     "data": {
      "text/plain": [
       "'PWSkills '"
      ]
     },
     "execution_count": 33,
     "metadata": {},
     "output_type": "execute_result"
    }
   ],
   "source": [
    "string_a.lstrip()"
   ]
  },
  {
   "cell_type": "code",
   "execution_count": 34,
   "id": "f12109d3-ebca-47c1-afde-2e0ab8396a4a",
   "metadata": {},
   "outputs": [
    {
     "data": {
      "text/plain": [
       "' PWSkills'"
      ]
     },
     "execution_count": 34,
     "metadata": {},
     "output_type": "execute_result"
    }
   ],
   "source": [
    "string_a.rstrip()"
   ]
  },
  {
   "cell_type": "code",
   "execution_count": 35,
   "id": "2d6453e3-4810-4a8d-9f44-eb36ece920f7",
   "metadata": {},
   "outputs": [],
   "source": [
    "string_n=\"Greetings to PWSkills\""
   ]
  },
  {
   "cell_type": "code",
   "execution_count": 37,
   "id": "2f00d74d-966c-497f-b78a-62cd02285a75",
   "metadata": {},
   "outputs": [
    {
     "data": {
      "text/plain": [
       "'Greetings From PWSkills'"
      ]
     },
     "execution_count": 37,
     "metadata": {},
     "output_type": "execute_result"
    }
   ],
   "source": [
    "string_n.replace(\"to\",\"From\")"
   ]
  },
  {
   "cell_type": "code",
   "execution_count": 38,
   "id": "fa4ab21a-4a7b-49b9-997a-2d41c10ece6b",
   "metadata": {},
   "outputs": [
    {
     "data": {
      "text/plain": [
       "'Welcome to PWSkills'"
      ]
     },
     "execution_count": 38,
     "metadata": {},
     "output_type": "execute_result"
    }
   ],
   "source": [
    "string_n.replace(\"Greetings\",\"Welcome\")"
   ]
  },
  {
   "cell_type": "code",
   "execution_count": 39,
   "id": "ed4e8d78-bff2-499b-b729-d23694943cc5",
   "metadata": {},
   "outputs": [
    {
     "data": {
      "text/plain": [
       "'Greetings to PWSkills'"
      ]
     },
     "execution_count": 39,
     "metadata": {},
     "output_type": "execute_result"
    }
   ],
   "source": [
    "string_n"
   ]
  },
  {
   "cell_type": "code",
   "execution_count": 41,
   "id": "2c27a26d-536c-4085-a010-4d631f5d5058",
   "metadata": {},
   "outputs": [],
   "source": [
    "string_n=\"Greetings to PWskills\"\n",
    "vara=string_n.replace(\"G\",\"T\")"
   ]
  },
  {
   "cell_type": "code",
   "execution_count": 43,
   "id": "c8f380df-8bce-42d0-aabe-ad4daa6e4224",
   "metadata": {},
   "outputs": [
    {
     "name": "stdout",
     "output_type": "stream",
     "text": [
      "139752364458992\n",
      "139752370558080\n"
     ]
    }
   ],
   "source": [
    "print(id(string_n))\n",
    "print(id(vara))"
   ]
  },
  {
   "cell_type": "code",
   "execution_count": 52,
   "id": "be97e593-de33-440a-877e-ba41af0e10d6",
   "metadata": {},
   "outputs": [
    {
     "data": {
      "text/plain": [
       "'hello   world'"
      ]
     },
     "execution_count": 52,
     "metadata": {},
     "output_type": "execute_result"
    }
   ],
   "source": [
    "'hello \\tworld'.expandtabs()"
   ]
  },
  {
   "cell_type": "code",
   "execution_count": 57,
   "id": "bf2af75c-ea59-4c90-84d7-dfef3cfbe5dc",
   "metadata": {},
   "outputs": [],
   "source": [
    "str2=\"Welcome to PW Skills. Welcome to Dat cience Masters\""
   ]
  },
  {
   "cell_type": "code",
   "execution_count": 59,
   "id": "583897d3-a14c-4a2b-b22f-c8f55ff670ec",
   "metadata": {},
   "outputs": [
    {
     "data": {
      "text/plain": [
       "'Welcome to PW Skills. Welcome to Data Science Masters'"
      ]
     },
     "execution_count": 59,
     "metadata": {},
     "output_type": "execute_result"
    }
   ],
   "source": [
    "str2.replace(\"Dat\", \"Data\").replace(\"cience\",\"Science\")"
   ]
  },
  {
   "cell_type": "code",
   "execution_count": 58,
   "id": "545d736c-2e54-4085-8063-48355e21f04e",
   "metadata": {},
   "outputs": [
    {
     "data": {
      "text/plain": [
       "'Welcome to PW Skills. Welcome to Dat cience Masters'"
      ]
     },
     "execution_count": 58,
     "metadata": {},
     "output_type": "execute_result"
    }
   ],
   "source": [
    "str2"
   ]
  },
  {
   "cell_type": "code",
   "execution_count": 60,
   "id": "a9feac16-6d30-4393-9b4a-143aef600190",
   "metadata": {},
   "outputs": [
    {
     "data": {
      "text/plain": [
       "'Welcome to PW Skills. Welcome to Dat cience Masters'"
      ]
     },
     "execution_count": 60,
     "metadata": {},
     "output_type": "execute_result"
    }
   ],
   "source": [
    "str2"
   ]
  },
  {
   "cell_type": "code",
   "execution_count": 61,
   "id": "9695d92b-ce86-464e-8418-003dce127193",
   "metadata": {},
   "outputs": [
    {
     "data": {
      "text/plain": [
       "False"
      ]
     },
     "execution_count": 61,
     "metadata": {},
     "output_type": "execute_result"
    }
   ],
   "source": [
    "str2.isupper()"
   ]
  },
  {
   "cell_type": "code",
   "execution_count": 66,
   "id": "bdbe6411-f746-4dad-b71e-eb0733577079",
   "metadata": {},
   "outputs": [],
   "source": [
    "str1=\" KRISH\""
   ]
  },
  {
   "cell_type": "code",
   "execution_count": 63,
   "id": "69ba2f26-9a7c-4bed-9e71-aa756eb156c3",
   "metadata": {},
   "outputs": [
    {
     "data": {
      "text/plain": [
       "True"
      ]
     },
     "execution_count": 63,
     "metadata": {},
     "output_type": "execute_result"
    }
   ],
   "source": [
    "str1.isupper()"
   ]
  },
  {
   "cell_type": "code",
   "execution_count": 64,
   "id": "2a48dd57-42f5-422e-9858-ee6981056416",
   "metadata": {},
   "outputs": [
    {
     "data": {
      "text/plain": [
       "False"
      ]
     },
     "execution_count": 64,
     "metadata": {},
     "output_type": "execute_result"
    }
   ],
   "source": [
    "str1.islower()"
   ]
  },
  {
   "cell_type": "code",
   "execution_count": 67,
   "id": "bb3f3003-160e-4407-a561-28717c2e0901",
   "metadata": {},
   "outputs": [
    {
     "data": {
      "text/plain": [
       "False"
      ]
     },
     "execution_count": 67,
     "metadata": {},
     "output_type": "execute_result"
    }
   ],
   "source": [
    "str1.isspace()"
   ]
  },
  {
   "cell_type": "code",
   "execution_count": 69,
   "id": "c4082a38-a581-4e22-935b-3352bcc2915b",
   "metadata": {},
   "outputs": [
    {
     "data": {
      "text/plain": [
       "True"
      ]
     },
     "execution_count": 69,
     "metadata": {},
     "output_type": "execute_result"
    }
   ],
   "source": [
    "# Useful to check if the user has entered any value or not\n",
    "' '.isspace()"
   ]
  },
  {
   "cell_type": "code",
   "execution_count": 71,
   "id": "af742b45-f5b3-4288-bf10-64898e41d0aa",
   "metadata": {},
   "outputs": [
    {
     "name": "stdout",
     "output_type": "stream",
     "text": [
      "Hello\n"
     ]
    }
   ],
   "source": [
    "if ' '.isspace():\n",
    "    print(\"Hello\")"
   ]
  },
  {
   "cell_type": "code",
   "execution_count": 72,
   "id": "2a12afb4-9d51-4b96-a023-aa748c7ed912",
   "metadata": {},
   "outputs": [],
   "source": [
    "str2=\"PWSkills\""
   ]
  },
  {
   "cell_type": "code",
   "execution_count": 73,
   "id": "f38c0ee3-fa15-434d-8e69-8032ef888b95",
   "metadata": {},
   "outputs": [
    {
     "data": {
      "text/plain": [
       "True"
      ]
     },
     "execution_count": 73,
     "metadata": {},
     "output_type": "execute_result"
    }
   ],
   "source": [
    "str2.endswith(\"s\")"
   ]
  },
  {
   "cell_type": "code",
   "execution_count": 75,
   "id": "2bfd1829-70a2-457d-b331-ae9e0e322fb3",
   "metadata": {},
   "outputs": [
    {
     "data": {
      "text/plain": [
       "False"
      ]
     },
     "execution_count": 75,
     "metadata": {},
     "output_type": "execute_result"
    }
   ],
   "source": [
    "str2.startswith(\"p\")"
   ]
  },
  {
   "cell_type": "code",
   "execution_count": 79,
   "id": "0848bd82-f96e-41aa-a3c6-099f2ffb8f2b",
   "metadata": {},
   "outputs": [
    {
     "data": {
      "text/plain": [
       "True"
      ]
     },
     "execution_count": 79,
     "metadata": {},
     "output_type": "execute_result"
    }
   ],
   "source": [
    "# Check if the string is alphanumeric\n",
    "str2.isalnum()"
   ]
  },
  {
   "cell_type": "code",
   "execution_count": 80,
   "id": "1686f315-717f-419b-b7ae-c6fb608a2db5",
   "metadata": {},
   "outputs": [
    {
     "data": {
      "text/plain": [
       "True"
      ]
     },
     "execution_count": 80,
     "metadata": {},
     "output_type": "execute_result"
    }
   ],
   "source": [
    "str2.isalpha()"
   ]
  },
  {
   "cell_type": "code",
   "execution_count": 81,
   "id": "1c839b5a-b0b2-43dc-9c66-ee68aa94c07a",
   "metadata": {},
   "outputs": [
    {
     "data": {
      "text/plain": [
       "False"
      ]
     },
     "execution_count": 81,
     "metadata": {},
     "output_type": "execute_result"
    }
   ],
   "source": [
    "str2.isnumeric()"
   ]
  },
  {
   "cell_type": "code",
   "execution_count": 84,
   "id": "c9fa5a79-b19d-471c-a87e-d42ae8811484",
   "metadata": {},
   "outputs": [
    {
     "name": "stdout",
     "output_type": "stream",
     "text": [
      "8\n"
     ]
    }
   ],
   "source": [
    "# To count the number of characters in the string\n",
    "count=0\n",
    "for i in str2:\n",
    "    count=count+1\n",
    "print(count)"
   ]
  },
  {
   "cell_type": "code",
   "execution_count": 85,
   "id": "34ef8731-06ff-49ed-a41e-4d0c4e3221be",
   "metadata": {},
   "outputs": [
    {
     "data": {
      "text/plain": [
       "8"
      ]
     },
     "execution_count": 85,
     "metadata": {},
     "output_type": "execute_result"
    }
   ],
   "source": [
    "len(str2)"
   ]
  },
  {
   "cell_type": "code",
   "execution_count": 86,
   "id": "88d75de4-0596-4ac0-8211-e03342afae7e",
   "metadata": {},
   "outputs": [
    {
     "data": {
      "text/plain": [
       "'PWSkills'"
      ]
     },
     "execution_count": 86,
     "metadata": {},
     "output_type": "execute_result"
    }
   ],
   "source": [
    "str2"
   ]
  },
  {
   "cell_type": "code",
   "execution_count": 87,
   "id": "f058e03b-f5be-40a4-a958-6b0209e031ef",
   "metadata": {},
   "outputs": [
    {
     "name": "stdout",
     "output_type": "stream",
     "text": [
      "P\n",
      "W\n",
      "S\n",
      "k\n",
      "i\n",
      "l\n",
      "l\n",
      "s\n"
     ]
    }
   ],
   "source": [
    "for i in str2:\n",
    "    print(i)"
   ]
  },
  {
   "cell_type": "code",
   "execution_count": 94,
   "id": "c6b69bab-bf14-495d-83c3-70989632283b",
   "metadata": {},
   "outputs": [
    {
     "name": "stdout",
     "output_type": "stream",
     "text": [
      "0 = P\n",
      "1 = W\n",
      "2 = S\n",
      "3 = k\n",
      "4 = i\n",
      "5 = l\n",
      "6 = l\n",
      "7 = s\n"
     ]
    }
   ],
   "source": [
    "for i in range(len(str2)):\n",
    "    print(i, \"=\", str2[i])"
   ]
  },
  {
   "cell_type": "markdown",
   "id": "5a0d45ea-2867-48da-a820-3f6fa4742732",
   "metadata": {},
   "source": [
    "### Can we use index to iterate string in reverse direction"
   ]
  },
  {
   "cell_type": "code",
   "execution_count": 98,
   "id": "41fb0022-58d9-45ae-9917-74d863adb7cc",
   "metadata": {},
   "outputs": [
    {
     "name": "stdout",
     "output_type": "stream",
     "text": [
      "s\n",
      "l\n",
      "l\n",
      "i\n",
      "k\n",
      "S\n",
      "W\n",
      "P\n"
     ]
    }
   ],
   "source": [
    "for i in range(len(str2)-1,-1,-1):\n",
    "    print(str2[i])"
   ]
  },
  {
   "cell_type": "code",
   "execution_count": 100,
   "id": "892b9e1f-1e49-488d-bbd7-e70f910c9ff4",
   "metadata": {},
   "outputs": [],
   "source": [
    "string=\"pwskills\"\n",
    "ch=len(string)-1"
   ]
  },
  {
   "cell_type": "code",
   "execution_count": 101,
   "id": "c953285e-187e-4db4-bd7b-26072cb4b4ad",
   "metadata": {},
   "outputs": [
    {
     "data": {
      "text/plain": [
       "7"
      ]
     },
     "execution_count": 101,
     "metadata": {},
     "output_type": "execute_result"
    }
   ],
   "source": [
    "ch"
   ]
  },
  {
   "cell_type": "code",
   "execution_count": 1,
   "id": "a5bbb5a6-6b85-4487-afc0-08d021e1b13f",
   "metadata": {},
   "outputs": [
    {
     "name": "stdout",
     "output_type": "stream",
     "text": [
      "s\n",
      "l\n",
      "l\n",
      "i\n",
      "k\n",
      "s\n",
      "w\n",
      "p\n"
     ]
    }
   ],
   "source": [
    "string=\"pwskills\"\n",
    "ch=len(string)-1\n",
    "while ch>=0:\n",
    "    print(string[ch])\n",
    "    ch=ch-1"
   ]
  },
  {
   "cell_type": "code",
   "execution_count": 2,
   "id": "1d7b82a4-292c-4397-ae49-f54aeef59066",
   "metadata": {},
   "outputs": [
    {
     "data": {
      "text/plain": [
       "8"
      ]
     },
     "execution_count": 2,
     "metadata": {},
     "output_type": "execute_result"
    }
   ],
   "source": [
    "len(string)"
   ]
  },
  {
   "cell_type": "code",
   "execution_count": 3,
   "id": "4e1ab20c-83ed-4ffe-9e1b-2d749a742a2a",
   "metadata": {},
   "outputs": [
    {
     "data": {
      "text/plain": [
       "-1"
      ]
     },
     "execution_count": 3,
     "metadata": {},
     "output_type": "execute_result"
    }
   ],
   "source": [
    "ch"
   ]
  },
  {
   "cell_type": "code",
   "execution_count": 7,
   "id": "49058a42-50bb-4104-a3b2-9d9aec6c780c",
   "metadata": {},
   "outputs": [
    {
     "name": "stdout",
     "output_type": "stream",
     "text": [
      "sllikswp"
     ]
    }
   ],
   "source": [
    "# Best Solution\n",
    "for i in range(len(string)):\n",
    "    print(string[len(string) - (i+1)],end=\"\")"
   ]
  },
  {
   "cell_type": "code",
   "execution_count": 21,
   "id": "ead75a77-2a70-43c9-8972-8c8cbe592dd9",
   "metadata": {},
   "outputs": [],
   "source": [
    "name=\"PWSkills\"\n",
    "vowels=\"AaEeIiOoUu\""
   ]
  },
  {
   "cell_type": "code",
   "execution_count": 22,
   "id": "052512a0-fe2d-4951-9182-7d0a2db3d43f",
   "metadata": {},
   "outputs": [
    {
     "name": "stdout",
     "output_type": "stream",
     "text": [
      "P is not a vowel\n",
      "W is not a vowel\n",
      "S is not a vowel\n",
      "k is not a vowel\n",
      "i is a vowel\n",
      "l is not a vowel\n",
      "l is not a vowel\n",
      "s is not a vowel\n"
     ]
    }
   ],
   "source": [
    "for ch in name:\n",
    "    if ch in vowels:\n",
    "        print(\"{} is a vowel\".format(ch))\n",
    "    else:\n",
    "        print(\"{} is not a vowel\".format(ch))"
   ]
  },
  {
   "cell_type": "markdown",
   "id": "71541f24-5466-4487-bc32-3855f6972a6f",
   "metadata": {},
   "source": [
    "# List"
   ]
  },
  {
   "cell_type": "code",
   "execution_count": null,
   "id": "2da52536-7d7d-4767-8fef-a2533f088eb2",
   "metadata": {},
   "outputs": [],
   "source": [
    "#List is an ordered collection of elements"
   ]
  },
  {
   "cell_type": "code",
   "execution_count": 25,
   "id": "7d770335-5b8e-4e00-b4d1-48e717988a8c",
   "metadata": {},
   "outputs": [
    {
     "data": {
      "text/plain": [
       "list"
      ]
     },
     "execution_count": 25,
     "metadata": {},
     "output_type": "execute_result"
    }
   ],
   "source": [
    "type([])"
   ]
  },
  {
   "cell_type": "code",
   "execution_count": 2,
   "id": "b4d9c01e-d7b4-4e89-a7dc-1887b8c4223b",
   "metadata": {},
   "outputs": [],
   "source": [
    "str2=\"PW Skills Data Science Masters\""
   ]
  },
  {
   "cell_type": "code",
   "execution_count": 7,
   "id": "42d514e8-c976-41d3-aebc-17ce6c4b9ae6",
   "metadata": {},
   "outputs": [],
   "source": [
    "list1=str1=\"Krish\""
   ]
  },
  {
   "cell_type": "code",
   "execution_count": 8,
   "id": "84b81aaf-3b01-4e7a-bde5-d234368b3d04",
   "metadata": {},
   "outputs": [
    {
     "data": {
      "text/plain": [
       "'Krish'"
      ]
     },
     "execution_count": 8,
     "metadata": {},
     "output_type": "execute_result"
    }
   ],
   "source": [
    "list1"
   ]
  },
  {
   "cell_type": "code",
   "execution_count": 14,
   "id": "98766b6c-ed0d-473b-8bfc-bb001f2ccb3f",
   "metadata": {},
   "outputs": [],
   "source": [
    "lst1=['pw','skills', 'data','science','masters']"
   ]
  },
  {
   "cell_type": "code",
   "execution_count": 12,
   "id": "c7eccf02-77ed-4dbb-864f-a950d9cb5f07",
   "metadata": {},
   "outputs": [
    {
     "data": {
      "text/plain": [
       "['skills', 'data', 'science', 'masters']"
      ]
     },
     "execution_count": 12,
     "metadata": {},
     "output_type": "execute_result"
    }
   ],
   "source": [
    "lst1"
   ]
  },
  {
   "cell_type": "code",
   "execution_count": 15,
   "id": "9aa163f6-fb66-4aa1-88d9-f44f6b75b1b9",
   "metadata": {},
   "outputs": [],
   "source": [
    "lst1[2]=\"datas\""
   ]
  },
  {
   "cell_type": "code",
   "execution_count": 16,
   "id": "ef86cf90-bfbf-455d-8999-ca01fa0079cb",
   "metadata": {},
   "outputs": [
    {
     "data": {
      "text/plain": [
       "['pw', 'skills', 'datas', 'science', 'masters']"
      ]
     },
     "execution_count": 16,
     "metadata": {},
     "output_type": "execute_result"
    }
   ],
   "source": [
    "lst1"
   ]
  },
  {
   "cell_type": "code",
   "execution_count": 17,
   "id": "08e66f27-951d-43a8-ba75-1dd2c4509a95",
   "metadata": {},
   "outputs": [
    {
     "data": {
      "text/plain": [
       "'science'"
      ]
     },
     "execution_count": 17,
     "metadata": {},
     "output_type": "execute_result"
    }
   ],
   "source": [
    "lst1[-2]"
   ]
  },
  {
   "cell_type": "code",
   "execution_count": 21,
   "id": "e1677dd9-9687-4c17-9756-fedc7ba9d215",
   "metadata": {},
   "outputs": [
    {
     "data": {
      "text/plain": [
       "['science', 'skills']"
      ]
     },
     "execution_count": 21,
     "metadata": {},
     "output_type": "execute_result"
    }
   ],
   "source": [
    "lst1[-2::-2]"
   ]
  },
  {
   "cell_type": "code",
   "execution_count": 22,
   "id": "230c7480-6472-4064-a6e8-a2afeb655f4e",
   "metadata": {},
   "outputs": [
    {
     "data": {
      "text/plain": [
       "['pw', 'skills', 'datas', 'science', 'masters']"
      ]
     },
     "execution_count": 22,
     "metadata": {},
     "output_type": "execute_result"
    }
   ],
   "source": [
    "lst1"
   ]
  },
  {
   "cell_type": "code",
   "execution_count": 25,
   "id": "412832c7-abd5-4806-946e-90fb4caf612d",
   "metadata": {},
   "outputs": [],
   "source": [
    "# concatenation operation\n",
    "lst2=lst1 + [[\"new element\", 3]]"
   ]
  },
  {
   "cell_type": "code",
   "execution_count": 26,
   "id": "78daecd0-e9c2-4b5c-bbb4-2b6072579ac4",
   "metadata": {},
   "outputs": [
    {
     "data": {
      "text/plain": [
       "['new element', 3]"
      ]
     },
     "execution_count": 26,
     "metadata": {},
     "output_type": "execute_result"
    }
   ],
   "source": [
    "lst2[-1]"
   ]
  },
  {
   "cell_type": "code",
   "execution_count": 29,
   "id": "b174db68-9f1a-4f47-80a1-d1e225430970",
   "metadata": {},
   "outputs": [
    {
     "data": {
      "text/plain": [
       "3"
      ]
     },
     "execution_count": 29,
     "metadata": {},
     "output_type": "execute_result"
    }
   ],
   "source": [
    "lst2[-1][1]"
   ]
  },
  {
   "cell_type": "code",
   "execution_count": 33,
   "id": "e00f4c03-432a-40b1-bc36-3ee7aa8727b2",
   "metadata": {},
   "outputs": [
    {
     "data": {
      "text/plain": [
       "['pw', 'skills', 'datas', 'science', 'masters']"
      ]
     },
     "execution_count": 33,
     "metadata": {},
     "output_type": "execute_result"
    }
   ],
   "source": [
    "lst1"
   ]
  },
  {
   "cell_type": "code",
   "execution_count": 38,
   "id": "d97a9278-3932-404f-9ead-086e08941822",
   "metadata": {},
   "outputs": [
    {
     "name": "stdout",
     "output_type": "stream",
     "text": [
      "science\n"
     ]
    }
   ],
   "source": [
    "for i in lst1:\n",
    "    if i==\"science\":\n",
    "        print(i)\n",
    "        break"
   ]
  },
  {
   "cell_type": "code",
   "execution_count": 41,
   "id": "c8953abb-60af-4eca-9caf-647f9d9d56ff",
   "metadata": {},
   "outputs": [
    {
     "data": {
      "text/plain": [
       "True"
      ]
     },
     "execution_count": 41,
     "metadata": {},
     "output_type": "execute_result"
    }
   ],
   "source": [
    "# check elements inside the list\n",
    "lst3=[1,2,3,4]\n",
    "3 in lst3"
   ]
  },
  {
   "cell_type": "code",
   "execution_count": 43,
   "id": "87da306c-1c6d-43c6-9293-5456b24600b9",
   "metadata": {},
   "outputs": [],
   "source": [
    "lst4=[\"Zebra\", \"Elephant\", \"Lion\", \"Monkey\", \"Donkey\"]\n",
    "lst5=[5,6,2,9,5,8,6]"
   ]
  },
  {
   "cell_type": "code",
   "execution_count": 49,
   "id": "95656206-5819-45df-9be3-3221eaf7dd76",
   "metadata": {},
   "outputs": [
    {
     "name": "stdout",
     "output_type": "stream",
     "text": [
      "Zebra\n",
      "9\n",
      "Donkey\n",
      "2\n"
     ]
    }
   ],
   "source": [
    "print(max(lst4))\n",
    "# For string, max operator checks for ASCII number of all characters in string and returns the max ASCII value\n",
    "print(max(lst5))\n",
    "print(min(lst4))\n",
    "print(min(lst5))"
   ]
  },
  {
   "cell_type": "markdown",
   "id": "40407f0d-7236-4ee9-8f57-c1e16806a758",
   "metadata": {},
   "source": [
    "## Append"
   ]
  },
  {
   "cell_type": "code",
   "execution_count": 51,
   "id": "06af8e2c-36e9-4e8c-a39b-f5360b3c784f",
   "metadata": {},
   "outputs": [
    {
     "data": {
      "text/plain": [
       "[5, 6, 2, 9, 5, 8, 6]"
      ]
     },
     "execution_count": 51,
     "metadata": {},
     "output_type": "execute_result"
    }
   ],
   "source": [
    "lst5"
   ]
  },
  {
   "cell_type": "code",
   "execution_count": 52,
   "id": "6a397343-d35b-4c17-8707-fa90d891167a",
   "metadata": {},
   "outputs": [],
   "source": [
    "lst5.append(\"pwskills\")"
   ]
  },
  {
   "cell_type": "code",
   "execution_count": 53,
   "id": "f6b2c684-9a9d-4396-a2cc-2ba06cb37ba0",
   "metadata": {},
   "outputs": [
    {
     "data": {
      "text/plain": [
       "[5, 6, 2, 9, 5, 8, 6, 'pwskills']"
      ]
     },
     "execution_count": 53,
     "metadata": {},
     "output_type": "execute_result"
    }
   ],
   "source": [
    "lst5"
   ]
  },
  {
   "cell_type": "code",
   "execution_count": 54,
   "id": "fb99c736-2ab4-4c2f-837e-8ce5bf29d7a3",
   "metadata": {},
   "outputs": [],
   "source": [
    "lst5.append([\"pwskills\",\"data\",\"science\",\"masters\"])"
   ]
  },
  {
   "cell_type": "code",
   "execution_count": 55,
   "id": "ac64e7e4-b74c-40bc-b06b-49b27d360c7d",
   "metadata": {},
   "outputs": [
    {
     "data": {
      "text/plain": [
       "[5, 6, 2, 9, 5, 8, 6, 'pwskills', ['pwskills', 'data', 'science', 'masters']]"
      ]
     },
     "execution_count": 55,
     "metadata": {},
     "output_type": "execute_result"
    }
   ],
   "source": [
    "lst5"
   ]
  },
  {
   "cell_type": "code",
   "execution_count": 56,
   "id": "773bd45d-e4be-45b9-8f27-3e93d80713e0",
   "metadata": {},
   "outputs": [
    {
     "data": {
      "text/plain": [
       "['Zebra', 'Elephant', 'Lion', 'Monkey', 'Donkey']"
      ]
     },
     "execution_count": 56,
     "metadata": {},
     "output_type": "execute_result"
    }
   ],
   "source": [
    "lst4"
   ]
  },
  {
   "cell_type": "code",
   "execution_count": 57,
   "id": "42667c19-ff96-4c6f-b7bb-8d4eb9bf822d",
   "metadata": {},
   "outputs": [
    {
     "data": {
      "text/plain": [
       "'Donkey'"
      ]
     },
     "execution_count": 57,
     "metadata": {},
     "output_type": "execute_result"
    }
   ],
   "source": [
    "# in place operation, reoves last if no index given\n",
    "lst4.pop()"
   ]
  },
  {
   "cell_type": "code",
   "execution_count": 58,
   "id": "f062a66f-a360-4ae4-8032-e0df58a1ac36",
   "metadata": {},
   "outputs": [
    {
     "data": {
      "text/plain": [
       "['Zebra', 'Elephant', 'Lion', 'Monkey']"
      ]
     },
     "execution_count": 58,
     "metadata": {},
     "output_type": "execute_result"
    }
   ],
   "source": [
    "lst4"
   ]
  },
  {
   "cell_type": "code",
   "execution_count": 59,
   "id": "ccc57f45-c5db-4f52-a7a8-b7afe43da674",
   "metadata": {},
   "outputs": [
    {
     "data": {
      "text/plain": [
       "'Lion'"
      ]
     },
     "execution_count": 59,
     "metadata": {},
     "output_type": "execute_result"
    }
   ],
   "source": [
    "lst4.pop(2)"
   ]
  },
  {
   "cell_type": "code",
   "execution_count": 60,
   "id": "2fd5a083-f326-4001-90b1-d92193e07a8b",
   "metadata": {},
   "outputs": [
    {
     "data": {
      "text/plain": [
       "['Zebra', 'Elephant', 'Monkey']"
      ]
     },
     "execution_count": 60,
     "metadata": {},
     "output_type": "execute_result"
    }
   ],
   "source": [
    "lst4"
   ]
  },
  {
   "cell_type": "code",
   "execution_count": 61,
   "id": "f6decacf-0a11-441c-90fc-35052b7f9aa2",
   "metadata": {},
   "outputs": [],
   "source": [
    "removed_element=lst4.pop(1)"
   ]
  },
  {
   "cell_type": "code",
   "execution_count": 62,
   "id": "621eb0c6-a5c1-41da-bfd9-589e88bc94e0",
   "metadata": {},
   "outputs": [
    {
     "data": {
      "text/plain": [
       "'Elephant'"
      ]
     },
     "execution_count": 62,
     "metadata": {},
     "output_type": "execute_result"
    }
   ],
   "source": [
    "lst4\n",
    "removed_element"
   ]
  },
  {
   "cell_type": "code",
   "execution_count": 63,
   "id": "18328904-2762-469b-bf55-b0635c6196f5",
   "metadata": {},
   "outputs": [
    {
     "data": {
      "text/plain": [
       "['Zebra', 'Monkey']"
      ]
     },
     "execution_count": 63,
     "metadata": {},
     "output_type": "execute_result"
    }
   ],
   "source": [
    "lst4"
   ]
  },
  {
   "cell_type": "markdown",
   "id": "fd5a41d9-97e3-411b-a874-34b55b1e4f27",
   "metadata": {},
   "source": [
    "### Sorting and Reverse method in list"
   ]
  },
  {
   "cell_type": "code",
   "execution_count": 65,
   "id": "e1402bbc-85d6-4612-9917-d44f302fe084",
   "metadata": {},
   "outputs": [],
   "source": [
    "lst6=[\"q\",\"e\",\"f\",\"s\",\"t\",\"u\"]"
   ]
  },
  {
   "cell_type": "code",
   "execution_count": 66,
   "id": "4d8f8db8-8177-4272-90b7-4c421d13641f",
   "metadata": {},
   "outputs": [
    {
     "data": {
      "text/plain": [
       "['q', 'e', 'f', 's', 't', 'u']"
      ]
     },
     "execution_count": 66,
     "metadata": {},
     "output_type": "execute_result"
    }
   ],
   "source": [
    "lst6"
   ]
  },
  {
   "cell_type": "code",
   "execution_count": 70,
   "id": "ea923fb7-b3c6-4681-9d7d-dbcda8eb7119",
   "metadata": {},
   "outputs": [],
   "source": [
    "# inplace operation\n",
    "lst6.reverse()"
   ]
  },
  {
   "cell_type": "code",
   "execution_count": 69,
   "id": "93d5a8c7-0edc-4ea0-99bb-e77e68923214",
   "metadata": {},
   "outputs": [
    {
     "data": {
      "text/plain": [
       "['q', 'e', 'f', 's', 't', 'u']"
      ]
     },
     "execution_count": 69,
     "metadata": {},
     "output_type": "execute_result"
    }
   ],
   "source": [
    "lst6"
   ]
  },
  {
   "cell_type": "code",
   "execution_count": 71,
   "id": "3b41f620-fd52-493e-940b-9761ec089ef8",
   "metadata": {},
   "outputs": [],
   "source": [
    "lst6.sort()"
   ]
  },
  {
   "cell_type": "code",
   "execution_count": null,
   "id": "ba4c3840-b299-487f-b213-d5a19250ffcb",
   "metadata": {},
   "outputs": [],
   "source": []
  },
  {
   "cell_type": "code",
   "execution_count": 72,
   "id": "c172d18a-1e83-48a6-86e1-68e4251fb5f4",
   "metadata": {},
   "outputs": [
    {
     "data": {
      "text/plain": [
       "['e', 'f', 'q', 's', 't', 'u']"
      ]
     },
     "execution_count": 72,
     "metadata": {},
     "output_type": "execute_result"
    }
   ],
   "source": [
    "lst6"
   ]
  },
  {
   "cell_type": "code",
   "execution_count": 75,
   "id": "67b93e7e-6454-4024-9e60-0f67f0eab290",
   "metadata": {},
   "outputs": [],
   "source": [
    "lst6.sort(reverse=True)"
   ]
  },
  {
   "cell_type": "code",
   "execution_count": 76,
   "id": "3727a3b8-ef4b-4c95-9f0b-a8f7ae9bcb92",
   "metadata": {},
   "outputs": [
    {
     "data": {
      "text/plain": [
       "['w', 'u', 't', 's', 'q', 'g', 'f', 'e', 'd']"
      ]
     },
     "execution_count": 76,
     "metadata": {},
     "output_type": "execute_result"
    }
   ],
   "source": [
    "lst6"
   ]
  },
  {
   "cell_type": "code",
   "execution_count": 73,
   "id": "129677dd-713c-4297-bc42-1c45464597fe",
   "metadata": {},
   "outputs": [],
   "source": [
    "lst6.extend([\"w\",\"g\",\"d\"])"
   ]
  },
  {
   "cell_type": "code",
   "execution_count": 74,
   "id": "5b335cb0-2939-4dc2-a30e-d8ace8ca49bc",
   "metadata": {},
   "outputs": [
    {
     "data": {
      "text/plain": [
       "['e', 'f', 'q', 's', 't', 'u', 'w', 'g', 'd']"
      ]
     },
     "execution_count": 74,
     "metadata": {},
     "output_type": "execute_result"
    }
   ],
   "source": [
    "lst6"
   ]
  },
  {
   "cell_type": "markdown",
   "id": "489560a8-5d4e-4790-8ed9-09d52ef1a055",
   "metadata": {},
   "source": [
    "### Nested List"
   ]
  },
  {
   "cell_type": "code",
   "execution_count": 77,
   "id": "a8f5b7c5-d6ba-4389-a0f0-51a4c7f9c987",
   "metadata": {},
   "outputs": [],
   "source": [
    "# Lets make 3 lists\n",
    "lst_1=[1,2,3]\n",
    "lst_2=[4,5,6]\n",
    "lst_3=[7,8,9]\n",
    "\n",
    "# Make a list of lists to form a matrix\n",
    "matrix=[lst_1,lst_2,lst_3]"
   ]
  },
  {
   "cell_type": "code",
   "execution_count": 78,
   "id": "570cc690-a4e7-4ee5-8ed3-f6b59e7edc0a",
   "metadata": {},
   "outputs": [
    {
     "data": {
      "text/plain": [
       "[[1, 2, 3], [4, 5, 6], [7, 8, 9]]"
      ]
     },
     "execution_count": 78,
     "metadata": {},
     "output_type": "execute_result"
    }
   ],
   "source": [
    "matrix"
   ]
  },
  {
   "cell_type": "code",
   "execution_count": 79,
   "id": "84260719-b65a-4d67-8539-f940f2560c37",
   "metadata": {},
   "outputs": [
    {
     "data": {
      "text/plain": [
       "6"
      ]
     },
     "execution_count": 79,
     "metadata": {},
     "output_type": "execute_result"
    }
   ],
   "source": [
    "matrix[1][2]"
   ]
  },
  {
   "cell_type": "code",
   "execution_count": 81,
   "id": "b781ef88-cf34-4e9a-b4c2-bdc0bab8736b",
   "metadata": {},
   "outputs": [
    {
     "data": {
      "text/plain": [
       "[8, 9]"
      ]
     },
     "execution_count": 81,
     "metadata": {},
     "output_type": "execute_result"
    }
   ],
   "source": [
    "matrix[2][1:]"
   ]
  },
  {
   "cell_type": "code",
   "execution_count": 82,
   "id": "af954fbe-b305-41d9-baff-ea8361412258",
   "metadata": {},
   "outputs": [
    {
     "data": {
      "text/plain": [
       "2"
      ]
     },
     "execution_count": 82,
     "metadata": {},
     "output_type": "execute_result"
    }
   ],
   "source": [
    "matrix[0][1]"
   ]
  },
  {
   "cell_type": "code",
   "execution_count": 89,
   "id": "5d528f2f-5c57-4761-9230-a6a6844334dd",
   "metadata": {},
   "outputs": [
    {
     "data": {
      "text/plain": [
       "[1, 2, 3]"
      ]
     },
     "execution_count": 89,
     "metadata": {},
     "output_type": "execute_result"
    }
   ],
   "source": [
    "matrix[0:][0]"
   ]
  },
  {
   "cell_type": "markdown",
   "id": "892761f9-4f08-4ece-992c-01f15fcf269d",
   "metadata": {},
   "source": [
    "### List Comprehension"
   ]
  },
  {
   "cell_type": "code",
   "execution_count": 90,
   "id": "8c44e3f4-8d40-4eb5-b272-92fd753674a5",
   "metadata": {},
   "outputs": [
    {
     "data": {
      "text/plain": [
       "[0, 1, 2, 3, 4, 5, 6, 7, 8, 9, 10, 11, 12, 13, 14, 15, 16, 17, 18, 19]"
      ]
     },
     "execution_count": 90,
     "metadata": {},
     "output_type": "execute_result"
    }
   ],
   "source": [
    "[i for i in range(20)]"
   ]
  },
  {
   "cell_type": "code",
   "execution_count": 95,
   "id": "22127e54-7b6a-41eb-9d78-1e0d29e6e789",
   "metadata": {},
   "outputs": [
    {
     "data": {
      "text/plain": [
       "[0, '', 2, '', 4, '', 6, '', 8, '', 10, '', 12, '', 14, '', 16, '', 18, '', 20]"
      ]
     },
     "execution_count": 95,
     "metadata": {},
     "output_type": "execute_result"
    }
   ],
   "source": [
    "# get all even numbers\n",
    "[i if i%2==0 else \"\" for i in range(21)]\n"
   ]
  },
  {
   "cell_type": "code",
   "execution_count": 103,
   "id": "f17efca5-c2fa-4e81-91c9-d46b11b4178d",
   "metadata": {},
   "outputs": [
    {
     "name": "stdout",
     "output_type": "stream",
     "text": [
      "16\n",
      "16\n"
     ]
    }
   ],
   "source": [
    "# Assignment\n",
    "# Sum of even numbers and sum of odd numbers in 2 variables\n",
    "\n",
    "lst7=[1,2,3,4,5,6,7,8]\n",
    "for i in lst7:\n",
    "    if i%2==0:\n",
    "        i=i+i\n",
    "print(i)\n",
    "\n",
    "lst7=[1,2,3,4,5,6,7,8]\n",
    "for k in lst7:\n",
    "    if i%2!=0:\n",
    "        i=i+i\n",
    "print(i)"
   ]
  },
  {
   "cell_type": "code",
   "execution_count": 100,
   "id": "65b62005-1ca3-45bb-b79b-ebffc343ae9e",
   "metadata": {},
   "outputs": [
    {
     "name": "stdout",
     "output_type": "stream",
     "text": [
      "20\n",
      "16\n"
     ]
    }
   ],
   "source": [
    "even_sum=0\n",
    "odd_sum=0\n",
    "for i in lst7:\n",
    "    if i % 2 == 0:\n",
    "        even_sum += i\n",
    "    else:\n",
    "        odd_sum += i\n",
    "print(even_sum)\n",
    "print(odd_sum)"
   ]
  },
  {
   "cell_type": "code",
   "execution_count": 107,
   "id": "1e6d2fa0-04f4-40aa-aed7-b857eccff1e2",
   "metadata": {},
   "outputs": [
    {
     "data": {
      "text/plain": [
       "[1, 2, 3, 4, 5, 6, 7, 8]"
      ]
     },
     "execution_count": 107,
     "metadata": {},
     "output_type": "execute_result"
    }
   ],
   "source": [
    "[num for num in lst7]"
   ]
  },
  {
   "cell_type": "code",
   "execution_count": 108,
   "id": "d92db647-9661-40d6-9ab9-429912af58b6",
   "metadata": {},
   "outputs": [
    {
     "data": {
      "text/plain": [
       "[2, 4, 6, 8]"
      ]
     },
     "execution_count": 108,
     "metadata": {},
     "output_type": "execute_result"
    }
   ],
   "source": [
    "[num for num in lst7 if num%2==0]"
   ]
  },
  {
   "cell_type": "code",
   "execution_count": 110,
   "id": "eb486fb7-e218-4f47-82b8-1d730df8c8ec",
   "metadata": {},
   "outputs": [
    {
     "data": {
      "text/plain": [
       "20"
      ]
     },
     "execution_count": 110,
     "metadata": {},
     "output_type": "execute_result"
    }
   ],
   "source": [
    "even_sum=sum([num for num in lst7 if num%2==0])\n",
    "even_sum"
   ]
  },
  {
   "cell_type": "code",
   "execution_count": 111,
   "id": "da423091-53df-4e8c-81bb-4c4a455eb5cb",
   "metadata": {},
   "outputs": [
    {
     "data": {
      "text/plain": [
       "[1, 3, 5, 7]"
      ]
     },
     "execution_count": 111,
     "metadata": {},
     "output_type": "execute_result"
    }
   ],
   "source": [
    "[num for num in lst7 if num%2!=0]"
   ]
  },
  {
   "cell_type": "code",
   "execution_count": 112,
   "id": "cafbdd9e-5682-4ce2-bef3-29a386ca9b12",
   "metadata": {},
   "outputs": [
    {
     "data": {
      "text/plain": [
       "16"
      ]
     },
     "execution_count": 112,
     "metadata": {},
     "output_type": "execute_result"
    }
   ],
   "source": [
    "odd_sum=sum([num for num in lst7 if num%2!=0])\n",
    "odd_sum"
   ]
  },
  {
   "cell_type": "code",
   "execution_count": 114,
   "id": "dd66a623-aeea-4d38-aa71-5cfbf734cde8",
   "metadata": {},
   "outputs": [
    {
     "data": {
      "text/plain": [
       "[1, 4, 9, 16, 25, 36, 49, 64]"
      ]
     },
     "execution_count": 114,
     "metadata": {},
     "output_type": "execute_result"
    }
   ],
   "source": [
    "# Square of numbers\n",
    "lst7\n",
    "[num**2 for num in lst7]"
   ]
  },
  {
   "cell_type": "code",
   "execution_count": 115,
   "id": "67fefcb3-53c2-4306-8a30-b210524df2eb",
   "metadata": {},
   "outputs": [
    {
     "data": {
      "text/plain": [
       "[1, 2, 3]"
      ]
     },
     "execution_count": 115,
     "metadata": {},
     "output_type": "execute_result"
    }
   ],
   "source": [
    "# Create a list of only the positive numebers from the list\n",
    "numbers=[-2,-1,0,1,2,3]\n",
    "[num for num in numbers if num > 0]"
   ]
  },
  {
   "cell_type": "code",
   "execution_count": 127,
   "id": "bd8b384c-c9d1-4d6e-9fd4-1b106cc79f2d",
   "metadata": {},
   "outputs": [
    {
     "data": {
      "text/plain": [
       "['a', 'b', 'c', 'd']"
      ]
     },
     "execution_count": 127,
     "metadata": {},
     "output_type": "execute_result"
    }
   ],
   "source": [
    "# Create a list of only the first letter of words in the list\n",
    "words=[\"apple\", \"banana\", \"cherry\", \"date\"]\n",
    "[word[0] for word in words]"
   ]
  },
  {
   "cell_type": "code",
   "execution_count": 128,
   "id": "81cb9e48-62e0-421a-a380-48357787bc0f",
   "metadata": {},
   "outputs": [],
   "source": [
    "# Convert a list of temperature from celcius to farhenheit using list comprehension\n",
    "# Fromula: (9/5)*temp+32\n",
    "celcius_temp=[0, 10, 20, 30, 40, 50]"
   ]
  },
  {
   "cell_type": "code",
   "execution_count": 129,
   "id": "14ba3ee5-f2ae-4bfa-9dd1-64aab918a396",
   "metadata": {},
   "outputs": [
    {
     "data": {
      "text/plain": [
       "[32.0, 50.0, 68.0, 86.0, 104.0, 122.0]"
      ]
     },
     "execution_count": 129,
     "metadata": {},
     "output_type": "execute_result"
    }
   ],
   "source": [
    "[(9/5)*temp+32 for temp in celcius_temp]"
   ]
  },
  {
   "cell_type": "code",
   "execution_count": 2,
   "id": "3e67a11a-50c3-4211-bd43-b63bdd8d3881",
   "metadata": {},
   "outputs": [],
   "source": [
    "# Flatten a list of lists into a single list\n",
    "\n",
    "lists=[[1,2,3],[4,5,6],[7,8,9]]"
   ]
  },
  {
   "cell_type": "code",
   "execution_count": 146,
   "id": "18611de1-0f6d-46dd-880f-016208eb614e",
   "metadata": {},
   "outputs": [
    {
     "data": {
      "text/plain": [
       "[[1, 2, 3], [4, 5, 6], [7, 8, 9]]"
      ]
     },
     "execution_count": 146,
     "metadata": {},
     "output_type": "execute_result"
    }
   ],
   "source": [
    "Element1=lists[0]\n",
    "Element2=lists[1]\n",
    "Element3=lists[2]\n",
    "\n",
    "lists=[Element1,Element2,Element3]\n",
    "lists"
   ]
  },
  {
   "cell_type": "code",
   "execution_count": 3,
   "id": "ad8677eb-54c7-4c6f-9537-54e94805f06d",
   "metadata": {},
   "outputs": [
    {
     "data": {
      "text/plain": [
       "[1, 2, 3, 4, 5, 6, 7, 8, 9]"
      ]
     },
     "execution_count": 3,
     "metadata": {},
     "output_type": "execute_result"
    }
   ],
   "source": [
    "[num for sublist in lists for num in sublist]"
   ]
  },
  {
   "cell_type": "markdown",
   "id": "e16e52d5-4713-473b-a6bd-c7443a7ae816",
   "metadata": {},
   "source": [
    "### Assignment"
   ]
  },
  {
   "cell_type": "code",
   "execution_count": 5,
   "id": "6e708e97-4323-4c19-8774-3b3f3633d1b3",
   "metadata": {},
   "outputs": [],
   "source": [
    "#Using both code and list comprehension\n",
    "#Create a list of only the prime numbers from the given list\n",
    "numbers = [1,2,3,4,5,6,7,8,9,10]"
   ]
  },
  {
   "cell_type": "code",
   "execution_count": 6,
   "id": "679b455e-e1be-408f-868c-df9a9b7c3067",
   "metadata": {},
   "outputs": [],
   "source": [
    "#Create a list of all possible combinations of 2 elements from the given list\n",
    "numbers_1=[1,2,3,4,5]"
   ]
  },
  {
   "cell_type": "code",
   "execution_count": 7,
   "id": "caf95f52-b878-4a31-afa2-16a2bf68551f",
   "metadata": {},
   "outputs": [],
   "source": [
    "numbers = [1,2,3,4,5,6,7,8,9,10]"
   ]
  },
  {
   "cell_type": "code",
   "execution_count": 8,
   "id": "f23d1f68-2f3a-4f30-87bf-0666082c52e0",
   "metadata": {},
   "outputs": [],
   "source": [
    "numbers.insert(-1,10)"
   ]
  },
  {
   "cell_type": "code",
   "execution_count": 9,
   "id": "02e5ee10-b54e-4075-83a3-d5f1554868bd",
   "metadata": {},
   "outputs": [
    {
     "data": {
      "text/plain": [
       "[1, 2, 3, 4, 5, 6, 7, 8, 9, 10, 10]"
      ]
     },
     "execution_count": 9,
     "metadata": {},
     "output_type": "execute_result"
    }
   ],
   "source": [
    "numbers"
   ]
  },
  {
   "cell_type": "code",
   "execution_count": 10,
   "id": "9f99aaba-ca22-481f-a4ce-1e57f09a461d",
   "metadata": {},
   "outputs": [],
   "source": [
    "numbers.insert(8,16)"
   ]
  },
  {
   "cell_type": "code",
   "execution_count": 11,
   "id": "925e5a16-2caf-41e5-ac19-d22b67e4170a",
   "metadata": {},
   "outputs": [
    {
     "data": {
      "text/plain": [
       "[1, 2, 3, 4, 5, 6, 7, 8, 16, 9, 10, 10]"
      ]
     },
     "execution_count": 11,
     "metadata": {},
     "output_type": "execute_result"
    }
   ],
   "source": [
    "numbers"
   ]
  },
  {
   "cell_type": "code",
   "execution_count": null,
   "id": "80664f13-8980-473c-9d12-9bd7f215b294",
   "metadata": {},
   "outputs": [],
   "source": []
  },
  {
   "cell_type": "code",
   "execution_count": null,
   "id": "d96941e1-32ec-496a-9484-1bd4f6114099",
   "metadata": {},
   "outputs": [],
   "source": []
  },
  {
   "cell_type": "code",
   "execution_count": null,
   "id": "f79e2c54-3d99-4de8-a08b-fc8d9b229c9a",
   "metadata": {},
   "outputs": [],
   "source": []
  },
  {
   "cell_type": "code",
   "execution_count": null,
   "id": "cd8706a2-9708-4ecb-ba38-47a737743124",
   "metadata": {},
   "outputs": [],
   "source": []
  },
  {
   "cell_type": "code",
   "execution_count": null,
   "id": "888f7990-8bf4-45c2-bd5b-e6f65b4cf15c",
   "metadata": {},
   "outputs": [],
   "source": []
  },
  {
   "cell_type": "code",
   "execution_count": null,
   "id": "ccabb7d8-cbf7-483e-aec5-eb6eb5043149",
   "metadata": {},
   "outputs": [],
   "source": []
  },
  {
   "cell_type": "code",
   "execution_count": null,
   "id": "430edba9-27a2-4fef-a814-8c79db1c3895",
   "metadata": {},
   "outputs": [],
   "source": []
  },
  {
   "cell_type": "code",
   "execution_count": null,
   "id": "04e8631b-30c5-4af7-823c-e0c047cf69bd",
   "metadata": {},
   "outputs": [],
   "source": []
  },
  {
   "cell_type": "code",
   "execution_count": null,
   "id": "7680b84c-8b77-4e6c-b283-cdf9f8dd2e54",
   "metadata": {},
   "outputs": [],
   "source": []
  },
  {
   "cell_type": "code",
   "execution_count": null,
   "id": "5e250997-fb6d-4d75-952d-2449d996b7b9",
   "metadata": {},
   "outputs": [],
   "source": []
  },
  {
   "cell_type": "code",
   "execution_count": null,
   "id": "2c4bd15a-7969-4d85-bc6b-32668f0b6912",
   "metadata": {},
   "outputs": [],
   "source": []
  },
  {
   "cell_type": "code",
   "execution_count": null,
   "id": "da3bac1b-07fa-48fe-a619-5f68681f966a",
   "metadata": {},
   "outputs": [],
   "source": []
  },
  {
   "cell_type": "code",
   "execution_count": null,
   "id": "96ed76f4-db6b-4605-8c10-11a4906d3adf",
   "metadata": {},
   "outputs": [],
   "source": []
  },
  {
   "cell_type": "code",
   "execution_count": null,
   "id": "b0a90c45-1e20-48e1-9022-f598fe57242f",
   "metadata": {},
   "outputs": [],
   "source": []
  }
 ],
 "metadata": {
  "kernelspec": {
   "display_name": "Python 3 (ipykernel)",
   "language": "python",
   "name": "python3"
  },
  "language_info": {
   "codemirror_mode": {
    "name": "ipython",
    "version": 3
   },
   "file_extension": ".py",
   "mimetype": "text/x-python",
   "name": "python",
   "nbconvert_exporter": "python",
   "pygments_lexer": "ipython3",
   "version": "3.10.8"
  }
 },
 "nbformat": 4,
 "nbformat_minor": 5
}
