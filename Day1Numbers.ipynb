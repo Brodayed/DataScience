{
 "cells": [
  {
   "cell_type": "markdown",
   "id": "442a1f4f-d6eb-4a86-aeb3-c5e525dd9843",
   "metadata": {},
   "source": [
    "Python Object Numbers and Boolean Values"
   ]
  },
  {
   "cell_type": "markdown",
   "id": "3272db2c-b71e-45ef-8855-902583374ec0",
   "metadata": {},
   "source": [
    "Numbers"
   ]
  },
  {
   "cell_type": "code",
   "execution_count": 1,
   "id": "ceb00dfe-4b5e-455f-b3f4-e2a5524027a8",
   "metadata": {},
   "outputs": [
    {
     "data": {
      "text/plain": [
       "4"
      ]
     },
     "execution_count": 1,
     "metadata": {},
     "output_type": "execute_result"
    }
   ],
   "source": [
    "a=1+3\n",
    "a"
   ]
  },
  {
   "cell_type": "code",
   "execution_count": 1,
   "id": "c96b583e-d7db-4a03-a458-bedc11885adb",
   "metadata": {},
   "outputs": [
    {
     "name": "stdout",
     "output_type": "stream",
     "text": [
      "2\n"
     ]
    }
   ],
   "source": [
    "print(4-2)"
   ]
  },
  {
   "cell_type": "code",
   "execution_count": 2,
   "id": "5f6de780-fa76-4e52-a1bc-23dc22afe445",
   "metadata": {},
   "outputs": [
    {
     "name": "stdout",
     "output_type": "stream",
     "text": [
      "Hello World, I am Krish and \n",
      " I work in PW Labs and ineuron\n"
     ]
    }
   ],
   "source": [
    "print(\"Hello World, I am Krish and \\n I work in PW Labs and ineuron\")"
   ]
  },
  {
   "cell_type": "markdown",
   "id": "65312c41-a27b-4335-acdf-bc9a3815cf73",
   "metadata": {},
   "source": [
    "# Variable Assignments"
   ]
  },
  {
   "cell_type": "code",
   "execution_count": 3,
   "id": "d95234ec-edda-44ea-b9a4-7b6d667dde9d",
   "metadata": {},
   "outputs": [],
   "source": [
    "name = \"Krish\" \n",
    "company = \"PW Skills and ineuron\""
   ]
  },
  {
   "cell_type": "code",
   "execution_count": 4,
   "id": "21fd8097-c94f-4260-91a4-9b2f0bd407bd",
   "metadata": {},
   "outputs": [
    {
     "data": {
      "text/plain": [
       "'PW Skills and ineuron'"
      ]
     },
     "execution_count": 4,
     "metadata": {},
     "output_type": "execute_result"
    }
   ],
   "source": [
    "company\n"
   ]
  },
  {
   "cell_type": "code",
   "execution_count": 5,
   "id": "d574dd6f-8bb1-46f2-a07d-0f866404afa8",
   "metadata": {},
   "outputs": [
    {
     "data": {
      "text/plain": [
       "'Krish'"
      ]
     },
     "execution_count": 5,
     "metadata": {},
     "output_type": "execute_result"
    }
   ],
   "source": [
    "name"
   ]
  },
  {
   "cell_type": "code",
   "execution_count": 10,
   "id": "2a87db03-4c11-4c85-af64-045e36af3d0c",
   "metadata": {},
   "outputs": [],
   "source": [
    "number = 20\n"
   ]
  },
  {
   "cell_type": "code",
   "execution_count": 11,
   "id": "fcf758ec-2e33-4c93-8ccb-db001f0e8c41",
   "metadata": {},
   "outputs": [
    {
     "data": {
      "text/plain": [
       "20"
      ]
     },
     "execution_count": 11,
     "metadata": {},
     "output_type": "execute_result"
    }
   ],
   "source": [
    "number"
   ]
  },
  {
   "cell_type": "code",
   "execution_count": 8,
   "id": "c824b4a9-c187-423f-970a-f033ae1dec7a",
   "metadata": {},
   "outputs": [],
   "source": [
    "name = \"Bala\""
   ]
  },
  {
   "cell_type": "code",
   "execution_count": 9,
   "id": "24cb6534-0a09-493e-872f-e5eecbd34742",
   "metadata": {},
   "outputs": [
    {
     "data": {
      "text/plain": [
       "'Bala'"
      ]
     },
     "execution_count": 9,
     "metadata": {},
     "output_type": "execute_result"
    }
   ],
   "source": [
    "name\n"
   ]
  },
  {
   "cell_type": "code",
   "execution_count": 12,
   "id": "103e5297-f4d7-4cff-9deb-075a755f2060",
   "metadata": {},
   "outputs": [
    {
     "data": {
      "text/plain": [
       "''"
      ]
     },
     "execution_count": 12,
     "metadata": {},
     "output_type": "execute_result"
    }
   ],
   "source": [
    "\"\""
   ]
  },
  {
   "cell_type": "code",
   "execution_count": 13,
   "id": "fd3b3155-0a74-4e28-bb3f-e08b26a43db9",
   "metadata": {},
   "outputs": [
    {
     "data": {
      "text/plain": [
       "''"
      ]
     },
     "execution_count": 13,
     "metadata": {},
     "output_type": "execute_result"
    }
   ],
   "source": [
    "''"
   ]
  },
  {
   "cell_type": "code",
   "execution_count": 15,
   "id": "16390d5d-647e-4578-ac4e-5de163b6f319",
   "metadata": {},
   "outputs": [
    {
     "data": {
      "text/plain": [
       "str"
      ]
     },
     "execution_count": 15,
     "metadata": {},
     "output_type": "execute_result"
    }
   ],
   "source": [
    "type(\"123\")"
   ]
  },
  {
   "cell_type": "code",
   "execution_count": 16,
   "id": "cd149d47-bdc8-4867-9e70-1d68393ac820",
   "metadata": {},
   "outputs": [
    {
     "data": {
      "text/plain": [
       "str"
      ]
     },
     "execution_count": 16,
     "metadata": {},
     "output_type": "execute_result"
    }
   ],
   "source": [
    "type(name)"
   ]
  },
  {
   "cell_type": "code",
   "execution_count": 17,
   "id": "a5d7aa81-a44c-4cd5-a1e1-1d095ceaae15",
   "metadata": {},
   "outputs": [
    {
     "data": {
      "text/plain": [
       "int"
      ]
     },
     "execution_count": 17,
     "metadata": {},
     "output_type": "execute_result"
    }
   ],
   "source": [
    "type(number)"
   ]
  },
  {
   "cell_type": "code",
   "execution_count": 18,
   "id": "cc8a53cf-6658-4e6a-a3d6-ec11a5ab5c3b",
   "metadata": {},
   "outputs": [],
   "source": [
    "decimal_num=3.4"
   ]
  },
  {
   "cell_type": "code",
   "execution_count": 19,
   "id": "af6c0379-1fa7-4b6d-806e-b3c7f43b7404",
   "metadata": {},
   "outputs": [
    {
     "data": {
      "text/plain": [
       "3.4"
      ]
     },
     "execution_count": 19,
     "metadata": {},
     "output_type": "execute_result"
    }
   ],
   "source": [
    "decimal_num"
   ]
  },
  {
   "cell_type": "code",
   "execution_count": 20,
   "id": "d484d417-86c2-439b-bfdc-6335628f7a56",
   "metadata": {},
   "outputs": [
    {
     "data": {
      "text/plain": [
       "float"
      ]
     },
     "execution_count": 20,
     "metadata": {},
     "output_type": "execute_result"
    }
   ],
   "source": [
    "type(decimal_num)"
   ]
  },
  {
   "cell_type": "code",
   "execution_count": null,
   "id": "76e6163b-c3e6-420d-8095-8bea7eb21be4",
   "metadata": {},
   "outputs": [],
   "source": [
    "decimal_num"
   ]
  },
  {
   "cell_type": "code",
   "execution_count": 21,
   "id": "2c336bb5-86f9-4e35-b589-31bc2973ef0f",
   "metadata": {},
   "outputs": [
    {
     "data": {
      "text/plain": [
       "(1+2j)"
      ]
     },
     "execution_count": 21,
     "metadata": {},
     "output_type": "execute_result"
    }
   ],
   "source": [
    "1+2j\n"
   ]
  },
  {
   "cell_type": "markdown",
   "id": "b12927c8-e5f7-4f16-9aad-eac0f20a480a",
   "metadata": {},
   "source": [
    "## "
   ]
  },
  {
   "cell_type": "code",
   "execution_count": 22,
   "id": "c9c3902d-799f-47e1-8445-334eae245ce4",
   "metadata": {},
   "outputs": [
    {
     "data": {
      "text/plain": [
       "complex"
      ]
     },
     "execution_count": 22,
     "metadata": {},
     "output_type": "execute_result"
    }
   ],
   "source": [
    "type(1+2j)"
   ]
  },
  {
   "cell_type": "code",
   "execution_count": 23,
   "id": "8a9939bd-a412-44da-a585-bf5c3c759a31",
   "metadata": {},
   "outputs": [],
   "source": [
    "## Dont start a variable name with numbers\n"
   ]
  },
  {
   "cell_type": "code",
   "execution_count": 24,
   "id": "d5f17ba9-0915-4199-8bc0-26a7af501f30",
   "metadata": {},
   "outputs": [],
   "source": [
    "number1 = 45"
   ]
  },
  {
   "cell_type": "code",
   "execution_count": 25,
   "id": "058217d0-504b-4c21-ad27-5dab9e3bdb3a",
   "metadata": {},
   "outputs": [
    {
     "data": {
      "text/plain": [
       "'PWSkills'"
      ]
     },
     "execution_count": 25,
     "metadata": {},
     "output_type": "execute_result"
    }
   ],
   "source": [
    "## Variables are case sensitive\n",
    "company=\"ineuron\"\n",
    "Company=\"PWSkills\"\n",
    "company\n",
    "Company"
   ]
  },
  {
   "cell_type": "code",
   "execution_count": 26,
   "id": "819ce204-2cdb-451b-9f83-fce7b2202732",
   "metadata": {},
   "outputs": [
    {
     "data": {
      "text/plain": [
       "'ineuron'"
      ]
     },
     "execution_count": 26,
     "metadata": {},
     "output_type": "execute_result"
    }
   ],
   "source": [
    "company"
   ]
  },
  {
   "cell_type": "code",
   "execution_count": 27,
   "id": "d3a403a5-501b-4329-afd7-f17ffbd9a79c",
   "metadata": {},
   "outputs": [
    {
     "data": {
      "text/plain": [
       "'PWSkills'"
      ]
     },
     "execution_count": 27,
     "metadata": {},
     "output_type": "execute_result"
    }
   ],
   "source": [
    "company\n",
    "Company"
   ]
  },
  {
   "cell_type": "code",
   "execution_count": 16,
   "id": "a6102e16-9772-4410-b86c-dc5c13e5061a",
   "metadata": {},
   "outputs": [
    {
     "data": {
      "text/plain": [
       "'\\nInt, Float, Complex, Bool, len, str, return, yield, continue, try, type\\n'"
      ]
     },
     "execution_count": 16,
     "metadata": {},
     "output_type": "execute_result"
    }
   ],
   "source": [
    "## Reserved Keywords\n",
    "\"\"\"\n",
    "Int, Float, Complex, Bool, len, str, return, yield, continue, try, type\n",
    "\"\"\""
   ]
  },
  {
   "cell_type": "code",
   "execution_count": 29,
   "id": "f01252f3-cd56-4e02-afca-d120fbcc218e",
   "metadata": {},
   "outputs": [],
   "source": [
    "float=32\n"
   ]
  },
  {
   "cell_type": "code",
   "execution_count": 30,
   "id": "c30536ae-e8b3-4417-bc41-71ce13618b3b",
   "metadata": {},
   "outputs": [],
   "source": [
    "# Boolean Variables\n"
   ]
  },
  {
   "cell_type": "code",
   "execution_count": 31,
   "id": "b5a12d60-d2a8-437f-858b-aab880b132e7",
   "metadata": {},
   "outputs": [
    {
     "data": {
      "text/plain": [
       "True"
      ]
     },
     "execution_count": 31,
     "metadata": {},
     "output_type": "execute_result"
    }
   ],
   "source": [
    "True"
   ]
  },
  {
   "cell_type": "code",
   "execution_count": 32,
   "id": "75d8bc78-f6ff-482d-8e8e-a572d6323301",
   "metadata": {},
   "outputs": [
    {
     "data": {
      "text/plain": [
       "False"
      ]
     },
     "execution_count": 32,
     "metadata": {},
     "output_type": "execute_result"
    }
   ],
   "source": [
    "False"
   ]
  },
  {
   "cell_type": "code",
   "execution_count": 33,
   "id": "d687de98-278f-4275-99bb-42912d3cc7d2",
   "metadata": {},
   "outputs": [
    {
     "data": {
      "text/plain": [
       "False"
      ]
     },
     "execution_count": 33,
     "metadata": {},
     "output_type": "execute_result"
    }
   ],
   "source": [
    "True and False"
   ]
  },
  {
   "cell_type": "code",
   "execution_count": 34,
   "id": "f1f0014a-4b6b-4398-85be-00de31f32afc",
   "metadata": {},
   "outputs": [
    {
     "data": {
      "text/plain": [
       "True"
      ]
     },
     "execution_count": 34,
     "metadata": {},
     "output_type": "execute_result"
    }
   ],
   "source": [
    "True or False"
   ]
  },
  {
   "cell_type": "code",
   "execution_count": 35,
   "id": "29c42bfe-485f-4cec-9638-b23c47380af4",
   "metadata": {},
   "outputs": [
    {
     "ename": "SyntaxError",
     "evalue": "invalid syntax (4098030859.py, line 1)",
     "output_type": "error",
     "traceback": [
      "\u001b[0;36m  Cell \u001b[0;32mIn[35], line 1\u001b[0;36m\u001b[0m\n\u001b[0;31m    |True\u001b[0m\n\u001b[0m    ^\u001b[0m\n\u001b[0;31mSyntaxError\u001b[0m\u001b[0;31m:\u001b[0m invalid syntax\n"
     ]
    }
   ],
   "source": [
    "|True"
   ]
  },
  {
   "cell_type": "code",
   "execution_count": 36,
   "id": "7549726b-52d3-45be-a7a5-f41260bf530a",
   "metadata": {},
   "outputs": [
    {
     "data": {
      "text/plain": [
       "False"
      ]
     },
     "execution_count": 36,
     "metadata": {},
     "output_type": "execute_result"
    }
   ],
   "source": [
    "not True"
   ]
  },
  {
   "cell_type": "code",
   "execution_count": 37,
   "id": "e8446e84-bfa0-4a4c-b019-a1559091f767",
   "metadata": {},
   "outputs": [
    {
     "data": {
      "text/plain": [
       "True"
      ]
     },
     "execution_count": 37,
     "metadata": {},
     "output_type": "execute_result"
    }
   ],
   "source": [
    "not False"
   ]
  },
  {
   "cell_type": "code",
   "execution_count": 38,
   "id": "9ddf72c6-00f4-40fb-ab1f-f0a0c355058e",
   "metadata": {},
   "outputs": [
    {
     "data": {
      "text/plain": [
       "bool"
      ]
     },
     "execution_count": 38,
     "metadata": {},
     "output_type": "execute_result"
    }
   ],
   "source": [
    "type (not True)"
   ]
  },
  {
   "cell_type": "code",
   "execution_count": 39,
   "id": "7f8259e3-4269-4ad4-aa5b-7981ad6fe47d",
   "metadata": {},
   "outputs": [
    {
     "data": {
      "text/plain": [
       "bool"
      ]
     },
     "execution_count": 39,
     "metadata": {},
     "output_type": "execute_result"
    }
   ],
   "source": [
    "type (True)"
   ]
  },
  {
   "cell_type": "code",
   "execution_count": 44,
   "id": "d5b576fa-4037-4e3c-8b24-d90d5b5eb2a8",
   "metadata": {},
   "outputs": [
    {
     "data": {
      "text/plain": [
       "False"
      ]
     },
     "execution_count": 44,
     "metadata": {},
     "output_type": "execute_result"
    }
   ],
   "source": [
    "## Typecasting\n",
    "bool(0)"
   ]
  },
  {
   "cell_type": "code",
   "execution_count": 41,
   "id": "6ce9c9a1-3143-4ce1-bc73-21c13b382b28",
   "metadata": {},
   "outputs": [
    {
     "data": {
      "text/plain": [
       "True"
      ]
     },
     "execution_count": 41,
     "metadata": {},
     "output_type": "execute_result"
    }
   ],
   "source": [
    "bool(1)"
   ]
  },
  {
   "cell_type": "code",
   "execution_count": 43,
   "id": "a7496748-c563-49eb-9b20-c71aeaa5a93b",
   "metadata": {},
   "outputs": [
    {
     "name": "stdout",
     "output_type": "stream",
     "text": [
      "This is true statement\n"
     ]
    }
   ],
   "source": [
    "a=1\n",
    "if bool(a)==True:\n",
    "    print(\"This is true statement\")"
   ]
  },
  {
   "cell_type": "code",
   "execution_count": 45,
   "id": "38199c6b-a52a-48a4-ba09-56b4926d3c8a",
   "metadata": {},
   "outputs": [
    {
     "data": {
      "text/plain": [
       "'23'"
      ]
     },
     "execution_count": 45,
     "metadata": {},
     "output_type": "execute_result"
    }
   ],
   "source": [
    "## Convert number into a string\n",
    "str(23)"
   ]
  },
  {
   "cell_type": "code",
   "execution_count": 1,
   "id": "721387a8-47a8-4e97-b1d0-9b5d2102dbcd",
   "metadata": {},
   "outputs": [
    {
     "data": {
      "text/plain": [
       "True"
      ]
     },
     "execution_count": 1,
     "metadata": {},
     "output_type": "execute_result"
    }
   ],
   "source": [
    "bool(2)"
   ]
  },
  {
   "cell_type": "code",
   "execution_count": 3,
   "id": "7e8f6b67-ad57-4997-be9e-353c7e2b9cdc",
   "metadata": {},
   "outputs": [
    {
     "data": {
      "text/plain": [
       "34"
      ]
     },
     "execution_count": 3,
     "metadata": {},
     "output_type": "execute_result"
    }
   ],
   "source": [
    "int(\"34\")"
   ]
  },
  {
   "cell_type": "code",
   "execution_count": 4,
   "id": "68e2ad2a-6cc3-4356-aa33-102baeeb4f9f",
   "metadata": {},
   "outputs": [
    {
     "data": {
      "text/plain": [
       "int"
      ]
     },
     "execution_count": 4,
     "metadata": {},
     "output_type": "execute_result"
    }
   ],
   "source": [
    "type(int(\"34\"))"
   ]
  },
  {
   "cell_type": "markdown",
   "id": "961cafee-9aaf-45bb-8553-3da024ea5018",
   "metadata": {},
   "source": [
    "# Dynamic Typing"
   ]
  },
  {
   "cell_type": "code",
   "execution_count": 5,
   "id": "f3b48dba-f3ed-4506-af29-f28b62cf648f",
   "metadata": {},
   "outputs": [],
   "source": [
    "a=12\n",
    "str1=\"Krish\"\n",
    "a=\"var\""
   ]
  },
  {
   "cell_type": "code",
   "execution_count": 6,
   "id": "8e87461d-4f91-4512-9af4-0f7bae48303f",
   "metadata": {},
   "outputs": [
    {
     "name": "stdout",
     "output_type": "stream",
     "text": [
      "<class 'str'>\n"
     ]
    }
   ],
   "source": [
    "print (type(a))"
   ]
  },
  {
   "cell_type": "code",
   "execution_count": 8,
   "id": "47694cdb-b539-48ef-933e-0b5d8023077b",
   "metadata": {},
   "outputs": [
    {
     "data": {
      "text/plain": [
       "23"
      ]
     },
     "execution_count": 8,
     "metadata": {},
     "output_type": "execute_result"
    }
   ],
   "source": [
    "int('23')"
   ]
  },
  {
   "cell_type": "code",
   "execution_count": 10,
   "id": "dc0b45e3-099c-4b5f-8696-a46adc28a4db",
   "metadata": {},
   "outputs": [
    {
     "data": {
      "text/plain": [
       "1"
      ]
     },
     "execution_count": 10,
     "metadata": {},
     "output_type": "execute_result"
    }
   ],
   "source": [
    "int(1.56)"
   ]
  },
  {
   "cell_type": "markdown",
   "id": "12878bca-65fa-436f-82ec-23bf2eb9a352",
   "metadata": {},
   "source": [
    "# Concatenation between different types"
   ]
  },
  {
   "cell_type": "code",
   "execution_count": 13,
   "id": "14e99cb4-7cb9-486a-9263-feb87952bdfb",
   "metadata": {},
   "outputs": [
    {
     "ename": "TypeError",
     "evalue": "unsupported operand type(s) for +: 'int' and 'str'",
     "output_type": "error",
     "traceback": [
      "\u001b[0;31m---------------------------------------------------------------------------\u001b[0m",
      "\u001b[0;31mTypeError\u001b[0m                                 Traceback (most recent call last)",
      "Cell \u001b[0;32mIn[13], line 1\u001b[0m\n\u001b[0;32m----> 1\u001b[0m \u001b[38;5;28;43mint\u001b[39;49m\u001b[43m(\u001b[49m\u001b[38;5;124;43m\"\u001b[39;49m\u001b[38;5;124;43m1\u001b[39;49m\u001b[38;5;124;43m\"\u001b[39;49m\u001b[43m)\u001b[49m\u001b[43m \u001b[49m\u001b[38;5;241;43m+\u001b[39;49m\u001b[43m \u001b[49m\u001b[38;5;124;43m\"\u001b[39;49m\u001b[38;5;124;43m1\u001b[39;49m\u001b[38;5;124;43m\"\u001b[39;49m\n",
      "\u001b[0;31mTypeError\u001b[0m: unsupported operand type(s) for +: 'int' and 'str'"
     ]
    }
   ],
   "source": [
    "int(\"1\") + \"1\""
   ]
  },
  {
   "cell_type": "code",
   "execution_count": 14,
   "id": "abfdea26-970f-4e97-a563-fbe1cc0da870",
   "metadata": {},
   "outputs": [
    {
     "ename": "TypeError",
     "evalue": "can't multiply sequence by non-int of type 'str'",
     "output_type": "error",
     "traceback": [
      "\u001b[0;31m---------------------------------------------------------------------------\u001b[0m",
      "\u001b[0;31mTypeError\u001b[0m                                 Traceback (most recent call last)",
      "Cell \u001b[0;32mIn[14], line 1\u001b[0m\n\u001b[0;32m----> 1\u001b[0m \u001b[38;5;124;43m\"\u001b[39;49m\u001b[38;5;124;43m1\u001b[39;49m\u001b[38;5;124;43m\"\u001b[39;49m\u001b[43m \u001b[49m\u001b[38;5;241;43m*\u001b[39;49m\u001b[43m \u001b[49m\u001b[38;5;124;43m\"\u001b[39;49m\u001b[38;5;124;43m1\u001b[39;49m\u001b[38;5;124;43m\"\u001b[39;49m\n",
      "\u001b[0;31mTypeError\u001b[0m: can't multiply sequence by non-int of type 'str'"
     ]
    }
   ],
   "source": [
    "\"1\" * \"1\""
   ]
  },
  {
   "cell_type": "code",
   "execution_count": 15,
   "id": "15fc77ab-cdd3-439f-961b-ab8e92b6c94d",
   "metadata": {},
   "outputs": [
    {
     "data": {
      "text/plain": [
       "'11111111111111111111111111111111111111111111111111'"
      ]
     },
     "execution_count": 15,
     "metadata": {},
     "output_type": "execute_result"
    }
   ],
   "source": [
    "\"1\" * 50"
   ]
  },
  {
   "cell_type": "code",
   "execution_count": null,
   "id": "794adf20-e564-4c34-8c50-bb0917a99a2d",
   "metadata": {},
   "outputs": [],
   "source": []
  },
  {
   "cell_type": "code",
   "execution_count": null,
   "id": "97289070-8180-4a82-8398-7c61efd54782",
   "metadata": {},
   "outputs": [],
   "source": []
  },
  {
   "cell_type": "code",
   "execution_count": null,
   "id": "a2172c64-9e57-40ad-b78e-b8eaa6ff5d98",
   "metadata": {},
   "outputs": [],
   "source": []
  },
  {
   "cell_type": "code",
   "execution_count": null,
   "id": "95a133f3-bcb6-4c94-a1bc-8db881a5c150",
   "metadata": {},
   "outputs": [],
   "source": []
  }
 ],
 "metadata": {
  "kernelspec": {
   "display_name": "Python 3 (ipykernel)",
   "language": "python",
   "name": "python3"
  },
  "language_info": {
   "codemirror_mode": {
    "name": "ipython",
    "version": 3
   },
   "file_extension": ".py",
   "mimetype": "text/x-python",
   "name": "python",
   "nbconvert_exporter": "python",
   "pygments_lexer": "ipython3",
   "version": "3.10.8"
  }
 },
 "nbformat": 4,
 "nbformat_minor": 5
}
