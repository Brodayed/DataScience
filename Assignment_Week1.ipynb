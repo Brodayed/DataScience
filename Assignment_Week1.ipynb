{
 "cells": [
  {
   "cell_type": "code",
   "execution_count": 3,
   "id": "5231ab78-1b5a-4db7-904c-6b5e5e022b62",
   "metadata": {},
   "outputs": [
    {
     "data": {
      "text/plain": [
       "'Q1. Create one variable containing following type of data\\n(i) string\\n(ii) list\\n(iii) float\\n(iv) tuple'"
      ]
     },
     "execution_count": 3,
     "metadata": {},
     "output_type": "execute_result"
    }
   ],
   "source": [
    "\"\"\"Q1. Create one variable containing following type of data\n",
    "(i) string\n",
    "(ii) list\n",
    "(iii) float\n",
    "(iv) tuple\"\"\""
   ]
  },
  {
   "cell_type": "code",
   "execution_count": 4,
   "id": "a71954ec-32dd-4119-a1fa-adf647591e13",
   "metadata": {},
   "outputs": [],
   "source": [
    "s = \"NewString\"\n"
   ]
  },
  {
   "cell_type": "code",
   "execution_count": 5,
   "id": "323705bd-ac90-45b9-9105-18a9d741af68",
   "metadata": {},
   "outputs": [
    {
     "data": {
      "text/plain": [
       "'NewString'"
      ]
     },
     "execution_count": 5,
     "metadata": {},
     "output_type": "execute_result"
    }
   ],
   "source": [
    "s"
   ]
  },
  {
   "cell_type": "code",
   "execution_count": 59,
   "id": "28a21f2a-a904-44de-b96f-2600db29f2e8",
   "metadata": {},
   "outputs": [],
   "source": [
    "l = [23, 56, 78.4, \"Sample\", False, 10+2j]"
   ]
  },
  {
   "cell_type": "code",
   "execution_count": 60,
   "id": "1ce985ac-1cda-4442-8f78-23f84da58ce2",
   "metadata": {},
   "outputs": [
    {
     "data": {
      "text/plain": [
       "[23, 56, 78.4, 'Sample', False, (10+2j)]"
      ]
     },
     "execution_count": 60,
     "metadata": {},
     "output_type": "execute_result"
    }
   ],
   "source": [
    "l"
   ]
  },
  {
   "cell_type": "code",
   "execution_count": 8,
   "id": "38fc2a81-9ea5-48bd-ad18-830ffd59f637",
   "metadata": {},
   "outputs": [],
   "source": [
    "f = 223.456\n"
   ]
  },
  {
   "cell_type": "code",
   "execution_count": 9,
   "id": "0102d809-c6ad-4101-be6b-8f1c28c3eaa6",
   "metadata": {},
   "outputs": [
    {
     "data": {
      "text/plain": [
       "float"
      ]
     },
     "execution_count": 9,
     "metadata": {},
     "output_type": "execute_result"
    }
   ],
   "source": [
    "type (f)"
   ]
  },
  {
   "cell_type": "code",
   "execution_count": 10,
   "id": "2547bb50-96f1-4606-b5bc-2f7d4f2e4927",
   "metadata": {},
   "outputs": [],
   "source": [
    "t = (23, 45, \"list\", [30, 50, 80])"
   ]
  },
  {
   "cell_type": "code",
   "execution_count": 11,
   "id": "4871193a-f8e8-42d4-b02f-6ba34987139d",
   "metadata": {},
   "outputs": [
    {
     "data": {
      "text/plain": [
       "(23, 45, 'list', [30, 50, 80])"
      ]
     },
     "execution_count": 11,
     "metadata": {},
     "output_type": "execute_result"
    }
   ],
   "source": [
    "t"
   ]
  },
  {
   "cell_type": "code",
   "execution_count": 12,
   "id": "39215394-8a65-44b2-bdb2-865bc22e313b",
   "metadata": {},
   "outputs": [
    {
     "data": {
      "text/plain": [
       "tuple"
      ]
     },
     "execution_count": 12,
     "metadata": {},
     "output_type": "execute_result"
    }
   ],
   "source": [
    "type(t)\n"
   ]
  },
  {
   "cell_type": "code",
   "execution_count": 13,
   "id": "5514c22c-632b-45e3-8462-68e0bf514126",
   "metadata": {},
   "outputs": [
    {
     "data": {
      "text/plain": [
       "'Q2. Given are some following variables containing data:\\n(i) var1 = ‘ ‘\\n(ii) var2 = ‘[ DS , ML , Python]’\\n(iii) var3 = [ ‘DS’ , ’ML’ , ‘Python’ ]\\n(iv) var4 = 1.'"
      ]
     },
     "execution_count": 13,
     "metadata": {},
     "output_type": "execute_result"
    }
   ],
   "source": [
    "\"\"\"Q2. Given are some following variables containing data:\n",
    "(i) var1 = ‘ ‘\n",
    "(ii) var2 = ‘[ DS , ML , Python]’\n",
    "(iii) var3 = [ ‘DS’ , ’ML’ , ‘Python’ ]\n",
    "(iv) var4 = 1.\"\"\""
   ]
  },
  {
   "cell_type": "code",
   "execution_count": 14,
   "id": "77a23372-863e-46ad-8efb-0a9986bdaaac",
   "metadata": {},
   "outputs": [],
   "source": [
    "var1 = ''"
   ]
  },
  {
   "cell_type": "code",
   "execution_count": 15,
   "id": "877909ed-c0a2-4991-8f59-8d7be4b291db",
   "metadata": {},
   "outputs": [
    {
     "data": {
      "text/plain": [
       "str"
      ]
     },
     "execution_count": 15,
     "metadata": {},
     "output_type": "execute_result"
    }
   ],
   "source": [
    "type(var1)"
   ]
  },
  {
   "cell_type": "code",
   "execution_count": 16,
   "id": "e0dff100-ddf3-40ad-aa0c-99294950a097",
   "metadata": {},
   "outputs": [],
   "source": [
    "var2 = '[DS, ML, Python]'"
   ]
  },
  {
   "cell_type": "code",
   "execution_count": 17,
   "id": "89f158a1-9d50-468e-83f9-0b91fd57a3b9",
   "metadata": {},
   "outputs": [
    {
     "data": {
      "text/plain": [
       "str"
      ]
     },
     "execution_count": 17,
     "metadata": {},
     "output_type": "execute_result"
    }
   ],
   "source": [
    "type(var2)"
   ]
  },
  {
   "cell_type": "code",
   "execution_count": 18,
   "id": "faed85cb-64e8-4fe1-ba93-5b958fd4859d",
   "metadata": {},
   "outputs": [],
   "source": [
    "var3 = ['DS', 'ML', 'Python']"
   ]
  },
  {
   "cell_type": "code",
   "execution_count": 19,
   "id": "26789a2b-cfc5-4664-a121-c3e29bfb7688",
   "metadata": {},
   "outputs": [
    {
     "data": {
      "text/plain": [
       "list"
      ]
     },
     "execution_count": 19,
     "metadata": {},
     "output_type": "execute_result"
    }
   ],
   "source": [
    "type(var3)"
   ]
  },
  {
   "cell_type": "code",
   "execution_count": 24,
   "id": "aeead92c-79ad-4609-81d8-e7d0bb8b29df",
   "metadata": {},
   "outputs": [],
   "source": [
    "var4 = l"
   ]
  },
  {
   "cell_type": "code",
   "execution_count": 25,
   "id": "7ae08a2c-c2e1-4450-8b83-f43ac17616c4",
   "metadata": {},
   "outputs": [
    {
     "data": {
      "text/plain": [
       "tuple"
      ]
     },
     "execution_count": 25,
     "metadata": {},
     "output_type": "execute_result"
    }
   ],
   "source": [
    "type(var4)"
   ]
  },
  {
   "cell_type": "code",
   "execution_count": 26,
   "id": "ea9e1334-f549-4364-9626-6bf1ecc8e164",
   "metadata": {},
   "outputs": [
    {
     "data": {
      "text/plain": [
       "'Q3. Explain the use of the following operators using an example:\\n(i) /\\n(ii) %\\n(iii) //\\n(iv) **'"
      ]
     },
     "execution_count": 26,
     "metadata": {},
     "output_type": "execute_result"
    }
   ],
   "source": [
    "\"\"\"Q3. Explain the use of the following operators using an example:\n",
    "(i) /\n",
    "(ii) %\n",
    "(iii) //\n",
    "(iv) **\"\"\"\n"
   ]
  },
  {
   "cell_type": "code",
   "execution_count": 27,
   "id": "af3b03d9-45a3-4c6a-931a-63041ebc25fc",
   "metadata": {},
   "outputs": [],
   "source": [
    "# / stands for division, example below"
   ]
  },
  {
   "cell_type": "code",
   "execution_count": 28,
   "id": "f8584110-c92f-44e5-9611-fad7e44ebe78",
   "metadata": {},
   "outputs": [
    {
     "data": {
      "text/plain": [
       "2.0"
      ]
     },
     "execution_count": 28,
     "metadata": {},
     "output_type": "execute_result"
    }
   ],
   "source": [
    "10 / 5\n"
   ]
  },
  {
   "cell_type": "code",
   "execution_count": 29,
   "id": "8dfe3093-8266-4874-8a36-3ea036875417",
   "metadata": {},
   "outputs": [],
   "source": [
    "# % stands for remainder, example below"
   ]
  },
  {
   "cell_type": "code",
   "execution_count": 31,
   "id": "40ee2b94-e645-481d-8ddf-bc181353e1f0",
   "metadata": {},
   "outputs": [
    {
     "data": {
      "text/plain": [
       "1"
      ]
     },
     "execution_count": 31,
     "metadata": {},
     "output_type": "execute_result"
    }
   ],
   "source": [
    "9%4"
   ]
  },
  {
   "cell_type": "code",
   "execution_count": null,
   "id": "19ce3bc9-9ba1-43b4-bb92-ba68f368e90a",
   "metadata": {},
   "outputs": [],
   "source": [
    "# // stands for divisor, example below"
   ]
  },
  {
   "cell_type": "code",
   "execution_count": 33,
   "id": "1bcd5d96-edba-4d6e-adeb-7a2d63c76846",
   "metadata": {},
   "outputs": [
    {
     "data": {
      "text/plain": [
       "3"
      ]
     },
     "execution_count": 33,
     "metadata": {},
     "output_type": "execute_result"
    }
   ],
   "source": [
    "10 // 3"
   ]
  },
  {
   "cell_type": "code",
   "execution_count": null,
   "id": "4e6a2d8c-4c58-48f1-b1f7-ae602573014b",
   "metadata": {},
   "outputs": [],
   "source": [
    "# ** stands for Power of , example below"
   ]
  },
  {
   "cell_type": "code",
   "execution_count": 34,
   "id": "8cc4bed1-3009-4565-ba9e-d0db35140cae",
   "metadata": {},
   "outputs": [
    {
     "data": {
      "text/plain": [
       "1000"
      ]
     },
     "execution_count": 34,
     "metadata": {},
     "output_type": "execute_result"
    }
   ],
   "source": [
    "10 ** 3"
   ]
  },
  {
   "cell_type": "code",
   "execution_count": 35,
   "id": "23097ed6-8960-45c1-b877-ffc80e32a639",
   "metadata": {},
   "outputs": [
    {
     "data": {
      "text/plain": [
       "'Q4. Create a list of length 10 of your choice containing multiple types of data. Using for loop print the\\nelement and its data type.'"
      ]
     },
     "execution_count": 35,
     "metadata": {},
     "output_type": "execute_result"
    }
   ],
   "source": [
    "\"\"\"Q4. Create a list of length 10 of your choice containing multiple types of data. Using for loop print the\n",
    "element and its data type.\"\"\""
   ]
  },
  {
   "cell_type": "code",
   "execution_count": 37,
   "id": "424ec875-90d4-435b-bb6e-a8a1637e46de",
   "metadata": {},
   "outputs": [],
   "source": [
    "l = (12, 2.33, \"String\", 9-4j, \"set\", 45, \"New\", 3, 5, \"start\")"
   ]
  },
  {
   "cell_type": "code",
   "execution_count": 38,
   "id": "522c64b1-d088-411c-bfa6-e1e18c06c80b",
   "metadata": {},
   "outputs": [
    {
     "name": "stdout",
     "output_type": "stream",
     "text": [
      "(12, 2.33, 'String', (9-4j), 'set', 45, 'New', 3, 5, 'start')\n",
      "<class 'tuple'>\n"
     ]
    }
   ],
   "source": [
    "print(l)\n",
    "print(type(l))"
   ]
  },
  {
   "cell_type": "code",
   "execution_count": 39,
   "id": "4d55dd94-d00b-43eb-92f2-3fa6ee2e74c4",
   "metadata": {},
   "outputs": [
    {
     "data": {
      "text/plain": [
       "'Q5. Using a while loop, verify if the number A is purely divisible by number B and if so then how many\\ntimes it can be divisible.'"
      ]
     },
     "execution_count": 39,
     "metadata": {},
     "output_type": "execute_result"
    }
   ],
   "source": [
    "\"\"\"Q5. Using a while loop, verify if the number A is purely divisible by number B and if so then how many\n",
    "times it can be divisible.\"\"\""
   ]
  },
  {
   "cell_type": "code",
   "execution_count": 88,
   "id": "a1e27cc0-0c14-402c-9956-fda5d8261866",
   "metadata": {},
   "outputs": [
    {
     "name": "stdin",
     "output_type": "stream",
     "text": [
      "0 20\n",
      "0 10\n"
     ]
    },
    {
     "ename": "TypeError",
     "evalue": "not all arguments converted during string formatting",
     "output_type": "error",
     "traceback": [
      "\u001b[0;31m---------------------------------------------------------------------------\u001b[0m",
      "\u001b[0;31mTypeError\u001b[0m                                 Traceback (most recent call last)",
      "Cell \u001b[0;32mIn[88], line 3\u001b[0m\n\u001b[1;32m      1\u001b[0m A \u001b[38;5;241m=\u001b[39m \u001b[38;5;28minput\u001b[39m(\u001b[38;5;28mint\u001b[39m())\n\u001b[1;32m      2\u001b[0m B \u001b[38;5;241m=\u001b[39m \u001b[38;5;28minput\u001b[39m(\u001b[38;5;28mint\u001b[39m())\n\u001b[0;32m----> 3\u001b[0m \u001b[38;5;28;01mwhile\u001b[39;00m \u001b[38;5;28mint\u001b[39m((\u001b[43mB\u001b[49m\u001b[43m \u001b[49m\u001b[38;5;241;43m%\u001b[39;49m\u001b[43m \u001b[49m\u001b[43mA\u001b[49m \u001b[38;5;241m==\u001b[39m \u001b[38;5;241m0\u001b[39m)):\n\u001b[1;32m      4\u001b[0m     \u001b[38;5;28mprint\u001b[39m(B \u001b[38;5;241m/\u001b[39m\u001b[38;5;241m/\u001b[39m A)\n\u001b[1;32m      5\u001b[0m \u001b[38;5;28;01melse\u001b[39;00m : \n",
      "\u001b[0;31mTypeError\u001b[0m: not all arguments converted during string formatting"
     ]
    }
   ],
   "source": [
    "A = input(int())\n",
    "B = input(int())\n",
    "while int((B % A == 0)):\n",
    "    print(B // A)\n",
    "else : \n",
    "    print(\"B is not divisible by A\")"
   ]
  },
  {
   "cell_type": "code",
   "execution_count": null,
   "id": "05779b84-7f13-4098-93e1-a7f054d2d05f",
   "metadata": {},
   "outputs": [],
   "source": []
  },
  {
   "cell_type": "code",
   "execution_count": 40,
   "id": "4a1d76fd-9304-4d9a-b656-e35796c2401a",
   "metadata": {},
   "outputs": [
    {
     "data": {
      "text/plain": [
       "'Q6. Create a list containing 25 int type data. Using for loop and if-else condition print if the element is\\ndivisible by 3 or not.'"
      ]
     },
     "execution_count": 40,
     "metadata": {},
     "output_type": "execute_result"
    }
   ],
   "source": [
    "\"\"\"Q6. Create a list containing 25 int type data. Using for loop and if-else condition print if the element is\n",
    "divisible by 3 or not.\"\"\""
   ]
  },
  {
   "cell_type": "code",
   "execution_count": 76,
   "id": "741029f7-b574-4797-a222-819e56094ef1",
   "metadata": {},
   "outputs": [
    {
     "name": "stdout",
     "output_type": "stream",
     "text": [
      "3\n",
      "is divisible by 3\n",
      "4 is Not divisible by 3\n",
      "5 is Not divisible by 3\n",
      "6\n",
      "is divisible by 3\n",
      "7 is Not divisible by 3\n",
      "8 is Not divisible by 3\n",
      "9\n",
      "is divisible by 3\n",
      "10 is Not divisible by 3\n",
      "11 is Not divisible by 3\n",
      "12\n",
      "is divisible by 3\n",
      "13 is Not divisible by 3\n",
      "14 is Not divisible by 3\n",
      "15\n",
      "is divisible by 3\n",
      "16 is Not divisible by 3\n",
      "17 is Not divisible by 3\n",
      "18\n",
      "is divisible by 3\n",
      "19 is Not divisible by 3\n",
      "20 is Not divisible by 3\n",
      "21\n",
      "is divisible by 3\n",
      "22 is Not divisible by 3\n",
      "23 is Not divisible by 3\n",
      "24\n",
      "is divisible by 3\n",
      "25 is Not divisible by 3\n",
      "26 is Not divisible by 3\n",
      "27\n",
      "is divisible by 3\n",
      "28 is Not divisible by 3\n"
     ]
    }
   ],
   "source": [
    "l = [3, 4, 5, 6, 7, 8, 9, 10, 11, 12, 13, 14, 15, 16, 17, 18, 19, 20, 21, 22, 23, 24, 25, 26, 27, 28]\n",
    "i = 1 \n",
    "for i in l : \n",
    "    if (i % 3 == 0) :\n",
    "        print(i)\n",
    "        print(\"is divisible by 3\")\n",
    "    else :\n",
    "        print(i, \"is Not divisible by 3\")"
   ]
  },
  {
   "cell_type": "code",
   "execution_count": null,
   "id": "8613ab07-b334-4574-a2bf-72acba06a1c7",
   "metadata": {},
   "outputs": [],
   "source": []
  },
  {
   "cell_type": "code",
   "execution_count": null,
   "id": "9b4a8c6c-23c6-4020-8714-e07fa0693073",
   "metadata": {},
   "outputs": [],
   "source": [
    "\"\"\"Q7. What do you understand about mutable and immutable data types? Give examples for both showing\n",
    "this property.\"\"\""
   ]
  },
  {
   "cell_type": "code",
   "execution_count": null,
   "id": "5affed67-d224-4cd8-8239-09da459a2f91",
   "metadata": {},
   "outputs": [],
   "source": [
    "#Mutabe: Any part of the list which can be replaced or changed is Mutable\n",
    "#Imutable: Any part of the string or tuple which cannot be relaced or changed is imutable"
   ]
  },
  {
   "cell_type": "code",
   "execution_count": 55,
   "id": "e37f7742-afe9-4c0f-8812-5f18da9824ef",
   "metadata": {},
   "outputs": [],
   "source": [
    "l = [24, 99.1, 'Insidestring', True, 8+4j]"
   ]
  },
  {
   "cell_type": "code",
   "execution_count": 53,
   "id": "bc4a5e4a-be6d-408b-aff9-52b9542209ed",
   "metadata": {},
   "outputs": [
    {
     "data": {
      "text/plain": [
       "'Insidestring'"
      ]
     },
     "execution_count": 53,
     "metadata": {},
     "output_type": "execute_result"
    }
   ],
   "source": [
    "l[2]\n"
   ]
  },
  {
   "cell_type": "code",
   "execution_count": 57,
   "id": "6c0836a2-da30-45fd-b16e-d5bcd6744bda",
   "metadata": {},
   "outputs": [],
   "source": [
    "l[2] = 100"
   ]
  },
  {
   "cell_type": "code",
   "execution_count": 58,
   "id": "7605cb36-812d-45bc-b680-a59ec6d9072c",
   "metadata": {},
   "outputs": [
    {
     "data": {
      "text/plain": [
       "[24, 99.1, 100, True, (8+4j)]"
      ]
     },
     "execution_count": 58,
     "metadata": {},
     "output_type": "execute_result"
    }
   ],
   "source": [
    "l"
   ]
  },
  {
   "cell_type": "code",
   "execution_count": null,
   "id": "6fb29fa8-82de-45c8-9669-48a44c62cb41",
   "metadata": {},
   "outputs": [],
   "source": [
    "s = \"LearnPython\""
   ]
  },
  {
   "cell_type": "code",
   "execution_count": 42,
   "id": "beab154c-78a3-4901-a8b3-85ae25ac17b1",
   "metadata": {},
   "outputs": [
    {
     "data": {
      "text/plain": [
       "'n'"
      ]
     },
     "execution_count": 42,
     "metadata": {},
     "output_type": "execute_result"
    }
   ],
   "source": [
    "s[4]"
   ]
  },
  {
   "cell_type": "code",
   "execution_count": 43,
   "id": "43bb70e5-9275-4838-a39d-ae71cea2d98e",
   "metadata": {},
   "outputs": [
    {
     "ename": "TypeError",
     "evalue": "'str' object does not support item assignment",
     "output_type": "error",
     "traceback": [
      "\u001b[0;31m---------------------------------------------------------------------------\u001b[0m",
      "\u001b[0;31mTypeError\u001b[0m                                 Traceback (most recent call last)",
      "Cell \u001b[0;32mIn[43], line 1\u001b[0m\n\u001b[0;32m----> 1\u001b[0m \u001b[43ms\u001b[49m\u001b[43m[\u001b[49m\u001b[38;5;241;43m4\u001b[39;49m\u001b[43m]\u001b[49m \u001b[38;5;241m=\u001b[39m \u001b[38;5;124m'\u001b[39m\u001b[38;5;124mf\u001b[39m\u001b[38;5;124m'\u001b[39m\n",
      "\u001b[0;31mTypeError\u001b[0m: 'str' object does not support item assignment"
     ]
    }
   ],
   "source": [
    "s[4] = 'f'"
   ]
  },
  {
   "cell_type": "code",
   "execution_count": null,
   "id": "d5908be5-697b-4570-a1b2-d8dc53e12785",
   "metadata": {},
   "outputs": [],
   "source": []
  }
 ],
 "metadata": {
  "kernelspec": {
   "display_name": "Python 3 (ipykernel)",
   "language": "python",
   "name": "python3"
  },
  "language_info": {
   "codemirror_mode": {
    "name": "ipython",
    "version": 3
   },
   "file_extension": ".py",
   "mimetype": "text/x-python",
   "name": "python",
   "nbconvert_exporter": "python",
   "pygments_lexer": "ipython3",
   "version": "3.10.8"
  }
 },
 "nbformat": 4,
 "nbformat_minor": 5
}
